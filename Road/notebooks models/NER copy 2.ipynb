{
 "cells": [
  {
   "cell_type": "code",
   "execution_count": 1,
   "metadata": {},
   "outputs": [
    {
     "name": "stderr",
     "output_type": "stream",
     "text": [
      "c:\\Users\\nasser\\.conda\\envs\\finall\\lib\\site-packages\\fuzzywuzzy\\fuzz.py:11: UserWarning: Using slow pure-python SequenceMatcher. Install python-Levenshtein to remove this warning\n",
      "  warnings.warn('Using slow pure-python SequenceMatcher. Install python-Levenshtein to remove this warning')\n",
      "c:\\Users\\nasser\\.conda\\envs\\finall\\lib\\site-packages\\tqdm\\auto.py:21: TqdmWarning: IProgress not found. Please update jupyter and ipywidgets. See https://ipywidgets.readthedocs.io/en/stable/user_install.html\n",
      "  from .autonotebook import tqdm as notebook_tqdm\n"
     ]
    }
   ],
   "source": [
    "import pandas as pd\n",
    "import sys\n",
    "import os\n",
    "path = os.path.abspath(os.path.join(os.getcwd(), os.pardir))\n",
    "if path not in sys.path:\n",
    "    sys.path.append(path)\n",
    "from constants import NER\n",
    "# get the first key in NERa\n",
    "from fuzzywuzzy import fuzz\n",
    "from constants import NER\n",
    "from fuzzywuzzy import fuzz\n",
    "from tensorflow.keras.preprocessing.text import Tokenizer\n",
    "from tensorflow.keras.preprocessing.text import text_to_word_sequence\n",
    "from tensorflow.keras.preprocessing.sequence import pad_sequences\n",
    "from tensorflow.keras.models import Model\n",
    "from tensorflow.keras.layers import Input, Embedding, LSTM, Dense\n",
    "from sklearn.model_selection import train_test_split\n",
    "# import sklearn_crfsuite\n",
    "import sklearn_crfsuite\n",
    "from joblib import Parallel, delayed\n",
    "import multiprocessing\n",
    "from transformers import pipeline\n",
    "from utils.helpers import combine_sub_words\n",
    "from transformers import AutoTokenizer, AutoModelForTokenClassification\n"
   ]
  },
  {
   "cell_type": "code",
   "execution_count": 2,
   "metadata": {},
   "outputs": [],
   "source": [
    "# df = pd.read_csv('../data/data_for_ner.csv')"
   ]
  },
  {
   "cell_type": "code",
   "execution_count": 3,
   "metadata": {},
   "outputs": [],
   "source": [
    "# df = df.sample(1000)"
   ]
  },
  {
   "cell_type": "code",
   "execution_count": 4,
   "metadata": {},
   "outputs": [],
   "source": [
    "# def process_word(word, NER):\n",
    "#     for key in NER.keys():\n",
    "#         if any(fuzz.ratio(word, k) >= 80 for k in key):\n",
    "#             return NER[key]\n",
    "#     return \"O\""
   ]
  },
  {
   "cell_type": "code",
   "execution_count": 5,
   "metadata": {},
   "outputs": [],
   "source": [
    "# def generate_ner_string(text, NER):\n",
    "#     num_cores = multiprocessing.cpu_count()\n",
    "#     words = text.split()\n",
    "#     results = Parallel(n_jobs=num_cores)(\n",
    "#         delayed(process_word)(word, NER) for word in words)\n",
    "#     return \" \".join(results)"
   ]
  },
  {
   "cell_type": "code",
   "execution_count": 6,
   "metadata": {},
   "outputs": [],
   "source": [
    "# df['ner'] = Parallel(n_jobs=-1)(\n",
    "#     delayed(generate_ner_string)(text, NER) for text in df['full_text'])"
   ]
  },
  {
   "cell_type": "code",
   "execution_count": 7,
   "metadata": {},
   "outputs": [],
   "source": [
    "# # get the rows with empty ner \"\"\n",
    "# df[df['ner'] == '']\n",
    "    "
   ]
  },
  {
   "cell_type": "code",
   "execution_count": 8,
   "metadata": {},
   "outputs": [],
   "source": [
    "# df.to_csv('../data/data_with_near_v1.csv', index=False)"
   ]
  },
  {
   "cell_type": "code",
   "execution_count": 9,
   "metadata": {},
   "outputs": [],
   "source": [
    "df = pd.read_csv('../data/data_with_near_v1.csv')"
   ]
  },
  {
   "cell_type": "code",
   "execution_count": 10,
   "metadata": {},
   "outputs": [],
   "source": [
    "# model_name = \"CAMeL-Lab/bert-base-arabic-camelbert-ca-pos-egy\"\n",
    "# tokenizer = AutoTokenizer.from_pretrained(model_name) # how to make the tokinzation on split by space?\n",
    "\n",
    "# pos_pipeline = pipeline(\"ner\", model=model_name, tokenizer=tokenizer)"
   ]
  },
  {
   "cell_type": "code",
   "execution_count": 11,
   "metadata": {},
   "outputs": [],
   "source": [
    "# # remove any punctuation from the full text\n",
    "# df['full_text'] = df['full_text'].str.replace(r'[^\\u0600-\\u06FF\\s]+', '')\n",
    "# df['full_text'] = df['full_text'].str.replace(r'\\?|؟|،', '')\n"
   ]
  },
  {
   "cell_type": "code",
   "execution_count": 12,
   "metadata": {},
   "outputs": [],
   "source": [
    "# pos_list = []\n",
    "# for text in df['full_text']:\n",
    "#     # remove any punctuation from the text\n",
    "#     res = pos_pipeline(text)\n",
    "#     res = combine_sub_words(res)\n",
    "#     while(1):\n",
    "#         if any('##' in r['word'] for r in res):\n",
    "#             res = combine_sub_words(res)\n",
    "#         else:\n",
    "#             break\n",
    "#     res = [r['entity'] for r in res]\n",
    "#     res = \" \".join(res)\n",
    "#     pos_list.append(res)\n",
    "# df['pos'] = pos_list\n"
   ]
  },
  {
   "cell_type": "code",
   "execution_count": 13,
   "metadata": {},
   "outputs": [],
   "source": [
    "# df['full_text_len'] = df['full_text'].apply(lambda x: len(x.split()))\n",
    "# # df['pos_len'] = df['pos'].apply(lambda x: len(x.split()))"
   ]
  },
  {
   "cell_type": "code",
   "execution_count": 14,
   "metadata": {},
   "outputs": [],
   "source": [
    "# pd.set_option('display.max_colwidth', None)\n",
    "# df[['full_text','pos', 'full_text_len', 'pos_len']]\n",
    "# # print the rows that have different length\n",
    "# df[df['full_text_len'] != df['pos_len']]\n",
    "# # remove the rows that have different length\n",
    "# df = df[df['full_text_len'] == df['pos_len']]"
   ]
  },
  {
   "cell_type": "code",
   "execution_count": 15,
   "metadata": {},
   "outputs": [],
   "source": [
    "# df.shape"
   ]
  },
  {
   "cell_type": "code",
   "execution_count": 16,
   "metadata": {},
   "outputs": [],
   "source": [
    "# df = df[['full_text', 'pos', 'ner']]"
   ]
  },
  {
   "cell_type": "code",
   "execution_count": 17,
   "metadata": {},
   "outputs": [],
   "source": [
    "data = df"
   ]
  },
  {
   "cell_type": "code",
   "execution_count": 18,
   "metadata": {},
   "outputs": [],
   "source": [
    "data['ner'] = data['ner'].astype(str)\n",
    "data['ner'] = data['ner'].apply(lambda x: x.split())"
   ]
  },
  {
   "cell_type": "code",
   "execution_count": 19,
   "metadata": {},
   "outputs": [],
   "source": [
    "from sklearn.model_selection import train_test_split\n",
    "from tensorflow.keras.preprocessing.text import Tokenizer\n",
    "from tensorflow.keras.preprocessing.sequence import pad_sequences"
   ]
  },
  {
   "cell_type": "code",
   "execution_count": 20,
   "metadata": {},
   "outputs": [],
   "source": [
    "# Split the data into training and validation datasets\n",
    "train_data, val_data = train_test_split(data, test_size=0.2, random_state=42)\n",
    "# Tokenize the input sequence\n",
    "input_tokenizer = Tokenizer( oov_token='UNK')\n",
    "input_tokenizer.fit_on_texts(train_data['full_text'])\n",
    "train_input_seq = input_tokenizer.texts_to_sequences(train_data['full_text'])\n",
    "val_input_seq = input_tokenizer.texts_to_sequences(val_data['full_text'])"
   ]
  },
  {
   "cell_type": "code",
   "execution_count": 21,
   "metadata": {},
   "outputs": [],
   "source": [
    "# Tokenize the output sequence\n",
    "output_tokenizer = Tokenizer(filters='', lower=False)\n",
    "output_tokenizer.fit_on_texts(train_data['ner'])\n",
    "train_output_seq = output_tokenizer.texts_to_sequences(train_data['ner'])\n",
    "val_output_seq = output_tokenizer.texts_to_sequences(val_data['ner'])"
   ]
  },
  {
   "cell_type": "code",
   "execution_count": 22,
   "metadata": {},
   "outputs": [],
   "source": [
    "# Create word to index and index to word mappings for the input sequence\n",
    "input_word2idx = input_tokenizer.word_index\n",
    "input_idx2word = {idx: word for word, idx in input_word2idx.items()}"
   ]
  },
  {
   "cell_type": "code",
   "execution_count": 23,
   "metadata": {},
   "outputs": [],
   "source": [
    "# Create named entity to index and index to named entity mappings for the output sequence\n",
    "output_word2idx = output_tokenizer.word_index\n",
    "output_idx2word = {idx: word for word, idx in output_word2idx.items()}"
   ]
  },
  {
   "cell_type": "code",
   "execution_count": 24,
   "metadata": {},
   "outputs": [],
   "source": [
    "# Pad the input sequence\n",
    "max_input_len = max(len(seq) for seq in train_input_seq)\n",
    "train_input_seq = pad_sequences(train_input_seq, maxlen=max_input_len, padding='post')\n",
    "val_input_seq = pad_sequences(val_input_seq, maxlen=max_input_len, padding='post')"
   ]
  },
  {
   "cell_type": "code",
   "execution_count": 25,
   "metadata": {},
   "outputs": [],
   "source": [
    "max_input_len\n",
    "# Pad the output sequence\n",
    "max_output_len = max(len(seq) for seq in train_output_seq)\n",
    "train_output_seq = pad_sequences(train_output_seq, maxlen=max_output_len, padding='post')\n",
    "val_output_seq = pad_sequences(val_output_seq, maxlen=max_output_len, padding='post')\n",
    "from tensorflow.keras.models import Model\n",
    "from tensorflow.keras.layers import Input, Embedding, LSTM, Dense"
   ]
  },
  {
   "cell_type": "code",
   "execution_count": 26,
   "metadata": {},
   "outputs": [],
   "source": [
    "# Define the input and output dimensions for the model\n",
    "input_dim = len(input_word2idx) + 1\n",
    "output_dim = len(output_word2idx) + 1\n",
    "# Define the embedding dimension\n",
    "embedding_dim = 128"
   ]
  },
  {
   "cell_type": "code",
   "execution_count": 27,
   "metadata": {},
   "outputs": [],
   "source": [
    "# Define the number of hidden units in the LSTM layer\n",
    "hidden_units = 256\n",
    "# import bidirectional LSTM\n",
    "from tensorflow.keras.layers import Bidirectional\n",
    "# import concatenate\n",
    "from tensorflow.keras.layers import Concatenate,Input"
   ]
  },
  {
   "cell_type": "code",
   "execution_count": 28,
   "metadata": {},
   "outputs": [],
   "source": [
    "\n",
    "from tensorflow.keras.layers import Input, Embedding, LSTM, Bidirectional, Dense,Dropout\n",
    "from tensorflow.keras.models import Model\n"
   ]
  },
  {
   "cell_type": "code",
   "execution_count": 29,
   "metadata": {},
   "outputs": [],
   "source": [
    "# # Define the input layer\n",
    "# inputs = Input(shape=(max_input_len,))\n",
    "\n",
    "# # Define the embedding layer\n",
    "# embedding = Embedding(input_dim=input_dim, output_dim=embedding_dim)(inputs)\n",
    "\n",
    "# # Define the Bidirectional LSTM layer\n",
    "# lstm = Bidirectional(LSTM(hidden_units, return_sequences=True) )(embedding)\n",
    "# lstm = Bidirectional(LSTM(hidden_units, return_sequences=True) )(lstm)\n",
    "# # lstm = Bidirectional(LSTM(hidden_units, return_sequences=True) )(lstm)\n",
    "# dense = Dense(128, activation='relu')(lstm)\n",
    "# dense = Dense(64, activation='relu')(dense)\n",
    "# dense = Dense(16, activation='relu')(dense)\n",
    "\n",
    "# # Define the output layer\n",
    "# outputs = Dense(output_dim, activation='softmax')(dense)\n",
    "\n",
    "# # Define the model\n",
    "# model = Model(inputs=inputs, outputs=outputs)\n",
    "\n",
    "# # Define the input layer\n",
    "# inputs = Input(shape=(max_input_len,))\n",
    "\n",
    "# # Define the embedding layer\n",
    "# embedding = Embedding(input_dim=input_dim, output_dim=embedding_dim)(inputs)\n",
    "\n",
    "# # Define the Bidirectional LSTM layer\n",
    "# lstm = Bidirectional(LSTM(hidden_units, return_sequences=True) )(embedding)\n",
    "# lstm = Bidirectional(LSTM(hidden_units, return_sequences=True) )(lstm)\n",
    "# # lstm = Bidirectional(LSTM(hidden_units, return_sequences=True) )(lstm)\n",
    "# dense = Dense(128, activation='relu')(lstm)\n",
    "# dense = Dense(64, activation='relu')(lstm)\n",
    "# dense = Dense(16, activation='relu')(lstm)\n",
    "# dense = Dense(8, activation='relu')(lstm)\n",
    "\n",
    "# # Define the output layer\n",
    "# outputs = Dense(output_dim, activation='softmax')(dense)\n",
    "\n",
    "# # Define the model\n",
    "# model = Model(inputs=inputs, outputs=outputs)"
   ]
  },
  {
   "cell_type": "code",
   "execution_count": 41,
   "metadata": {},
   "outputs": [],
   "source": [
    "from keras.layers import Conv1D, GlobalMaxPooling1D, Dropout, BatchNormalization, Flatten, GRU, Attention\n",
    "\n",
    "inputs = Input(shape=(max_input_len,))\n",
    "\n",
    "# Define the embedding layer\n",
    "embedding = Embedding(input_dim=input_dim, output_dim=embedding_dim)(inputs)\n",
    "\n",
    "\n",
    "\n",
    "# Define the Bidirectional GRU layer\n",
    "gru1 = Bidirectional(GRU(hidden_units, return_sequences=True))(embedding)\n",
    "ltsm1 = Bidirectional(LSTM(hidden_units, return_sequences=True))(embedding)\n",
    "\n",
    "# Add attention layer\n",
    "attention = Attention()([gru1, ltsm1])\n",
    "\n",
    "# Add dense layers\n",
    "dense = Dense(256, activation='relu')(attention)\n",
    "dense = BatchNormalization()(dense)\n",
    "dropout = Dropout(0.5)(dense)\n",
    "\n",
    "\n",
    "# Define the output layer\n",
    "outputs = Dense(output_dim, activation='softmax')(dropout)\n",
    "\n",
    "# Define the model\n",
    "model = Model(inputs=inputs, outputs=outputs)\n"
   ]
  },
  {
   "cell_type": "code",
   "execution_count": 40,
   "metadata": {},
   "outputs": [
    {
     "data": {
      "image/png": "[encoded data removed]",
      "text/plain": [
       "<IPython.core.display.Image object>"
      ]
     },
     "execution_count": 40,
     "metadata": {},
     "output_type": "execute_result"
    }
   ],
   "source": [
    "# draw the model\n",
    "from tensorflow.keras.utils import plot_model\n",
    "# draw it in the notebook\n",
    "plot_model(model, show_shapes=True, show_layer_names=True)"
   ]
  },
  {
   "cell_type": "code",
   "execution_count": 42,
   "metadata": {},
   "outputs": [
    {
     "name": "stdout",
     "output_type": "stream",
     "text": [
      "Epoch 1/15\n",
      "30/30 [==============================] - 22s 606ms/step - loss: 0.4044 - accuracy: 0.9428 - val_loss: 2.5822 - val_accuracy: 0.9728\n",
      "Epoch 2/15\n",
      "30/30 [==============================] - 17s 568ms/step - loss: 0.0388 - accuracy: 0.9900 - val_loss: 2.6892 - val_accuracy: 0.9728\n",
      "Epoch 3/15\n",
      "30/30 [==============================] - 19s 637ms/step - loss: 0.0138 - accuracy: 0.9950 - val_loss: 1.0026 - val_accuracy: 0.9731\n",
      "Epoch 4/15\n",
      "30/30 [==============================] - 19s 631ms/step - loss: 0.0066 - accuracy: 0.9983 - val_loss: 0.3723 - val_accuracy: 0.9893\n",
      "Epoch 5/15\n",
      "30/30 [==============================] - 19s 625ms/step - loss: 0.0043 - accuracy: 0.9989 - val_loss: 0.1646 - val_accuracy: 0.9897\n",
      "Epoch 6/15\n",
      "30/30 [==============================] - 20s 680ms/step - loss: 0.0032 - accuracy: 0.9992 - val_loss: 0.0549 - val_accuracy: 0.9924\n",
      "Epoch 7/15\n",
      "30/30 [==============================] - 21s 688ms/step - loss: 0.0023 - accuracy: 0.9995 - val_loss: 0.0208 - val_accuracy: 0.9971\n",
      "Epoch 8/15\n",
      "30/30 [==============================] - 21s 717ms/step - loss: 0.0018 - accuracy: 0.9996 - val_loss: 0.0079 - val_accuracy: 0.9979\n",
      "Epoch 9/15\n",
      "30/30 [==============================] - 25s 826ms/step - loss: 0.0012 - accuracy: 0.9997 - val_loss: 0.0041 - val_accuracy: 0.9986\n",
      "Epoch 10/15\n",
      "30/30 [==============================] - 31s 1s/step - loss: 8.8826e-04 - accuracy: 0.9998 - val_loss: 0.0046 - val_accuracy: 0.9987\n",
      "Epoch 11/15\n",
      "30/30 [==============================] - 26s 875ms/step - loss: 7.0405e-04 - accuracy: 0.9999 - val_loss: 0.0053 - val_accuracy: 0.9988\n",
      "Epoch 12/15\n",
      "30/30 [==============================] - 22s 736ms/step - loss: 5.6530e-04 - accuracy: 0.9999 - val_loss: 0.0061 - val_accuracy: 0.9988\n",
      "Epoch 13/15\n",
      "30/30 [==============================] - 20s 661ms/step - loss: 4.5540e-04 - accuracy: 0.9999 - val_loss: 0.0066 - val_accuracy: 0.9988\n",
      "Epoch 14/15\n",
      "30/30 [==============================] - 22s 732ms/step - loss: 4.0456e-04 - accuracy: 0.9999 - val_loss: 0.0081 - val_accuracy: 0.9988\n",
      "Epoch 15/15\n",
      "30/30 [==============================] - 19s 650ms/step - loss: 4.1680e-04 - accuracy: 0.9999 - val_loss: 0.0095 - val_accuracy: 0.9988\n"
     ]
    }
   ],
   "source": [
    "# Compile the model\n",
    "from tensorflow.keras.optimizers import Adam\n",
    "\n",
    "learning_rate = 0.01  # Set the learning rate to 0.001\n",
    "\n",
    "optimizer = Adam(learning_rate=learning_rate)\n",
    "\n",
    "model.compile(optimizer=optimizer, loss='sparse_categorical_crossentropy', metrics=['accuracy'])\n",
    "\n",
    "\n",
    "# Train the model\n",
    "history = model.fit(train_input_seq, train_output_seq, validation_data=(val_input_seq, val_output_seq), batch_size=1048, epochs=15)"
   ]
  },
  {
   "cell_type": "code",
   "execution_count": 51,
   "metadata": {},
   "outputs": [
    {
     "name": "stdout",
     "output_type": "stream",
     "text": [
      "240/240 [==============================] - 6s 24ms/step\n"
     ]
    },
    {
     "data": {
      "text/plain": [
       "{1: 'O', 2: 'STAT', 3: 'B-LOC', 4: 'Barr', 5: 'I-LOC', 6: 'B-ORG', 7: 'I-ORG'}"
      ]
     },
     "execution_count": 51,
     "metadata": {},
     "output_type": "execute_result"
    }
   ],
   "source": [
    "import numpy as np\n",
    "from sklearn.metrics import classification_report\n",
    "\n",
    "# Generate predictions for the test set\n",
    "y_pred = model.predict(val_input_seq)\n",
    "\n",
    "# Convert predictions and ground-truth labels to flattened arrays\n",
    "y_pred_flat = np.argmax(y_pred, axis=-1).flatten()\n",
    "y_true_flat = val_output_seq.flatten()\n",
    "\n",
    "# Get list of unique labels in the dataset\n",
    "labels = list(set(y_true_flat))\n",
    "\n",
    "# Generate classification report for each label\n",
    "# add the label names to the classification report\n",
    "output_idx2word\n",
    "    \n",
    "\n"
   ]
  },
  {
   "cell_type": "code",
   "execution_count": 50,
   "metadata": {},
   "outputs": [
    {
     "name": "stderr",
     "output_type": "stream",
     "text": [
      "c:\\Users\\nasser\\.conda\\envs\\finall\\lib\\site-packages\\sklearn\\metrics\\_classification.py:1318: UndefinedMetricWarning: Precision and F-score are ill-defined and being set to 0.0 in labels with no predicted samples. Use `zero_division` parameter to control this behavior.\n",
      "  _warn_prf(average, modifier, msg_start, len(result))\n",
      "c:\\Users\\nasser\\.conda\\envs\\finall\\lib\\site-packages\\sklearn\\metrics\\_classification.py:1318: UndefinedMetricWarning: Precision and F-score are ill-defined and being set to 0.0 in labels with no predicted samples. Use `zero_division` parameter to control this behavior.\n",
      "  _warn_prf(average, modifier, msg_start, len(result))\n"
     ]
    },
    {
     "name": "stdout",
     "output_type": "stream",
     "text": [
      "              precision    recall  f1-score   support\n",
      "\n",
      "           0       1.00      1.00      1.00   1528062\n",
      "           1       1.00      0.92      0.96     22322\n",
      "           2       0.94      1.00      0.97      8269\n",
      "           3       0.84      1.00      0.91      7127\n",
      "           4       1.00      1.00      1.00      2787\n",
      "           5       1.00      0.99      0.99      1402\n",
      "           6       1.00      0.98      0.99       727\n",
      "           7       0.00      0.00      0.00        14\n",
      "\n",
      "    accuracy                           1.00   1570710\n",
      "   macro avg       0.85      0.86      0.85   1570710\n",
      "weighted avg       1.00      1.00      1.00   1570710\n",
      "\n"
     ]
    },
    {
     "name": "stderr",
     "output_type": "stream",
     "text": [
      "c:\\Users\\nasser\\.conda\\envs\\finall\\lib\\site-packages\\sklearn\\metrics\\_classification.py:1318: UndefinedMetricWarning: Precision and F-score are ill-defined and being set to 0.0 in labels with no predicted samples. Use `zero_division` parameter to control this behavior.\n",
      "  _warn_prf(average, modifier, msg_start, len(result))\n"
     ]
    }
   ],
   "source": [
    "print(classification_report(y_true_flat, y_pred_flat, labels=labels))"
   ]
  },
  {
   "cell_type": "code",
   "execution_count": 52,
   "metadata": {},
   "outputs": [
    {
     "name": "stdout",
     "output_type": "stream",
     "text": [
      "Accuracy:  0.9999361634254456\n",
      "Validation Accuracy:  0.9988094568252563\n"
     ]
    }
   ],
   "source": [
    "\n",
    "# print the accuracy\n",
    "print(\"Accuracy: \", history.history['accuracy'][-1])\n",
    "# print the accuracy of validation set\n",
    "print(\"Validation Accuracy: \", history.history['val_accuracy'][-1])"
   ]
  },
  {
   "cell_type": "code",
   "execution_count": 55,
   "metadata": {},
   "outputs": [
    {
     "name": "stdout",
     "output_type": "stream",
     "text": [
      "1/1 [==============================] - 0s 191ms/step\n",
      "['Barr', 'B-LOC', 'STAT', '', '', '', '', '', '', '', '', '', '', '', '', '', '', '', '', '', '', '', '', '', '', '', '', '', '', '', '', '', '', '', '', '', '', '', '', '', '', '', '', '', '', '', '', '', '', '', '', '', '', '', '', '', '', '', '', '', '', '', '', '', '', '', '', '', '', '', '', '', '', '', '', '', '', '', '', '', '', '', '', '', '', '', '', '', '', '', '', '', '', '', '', '', '', '', '', '', '', '', '', '', '', '', '', '', '', '', '', '', '', '', '', '', '', '', '', '', '', '', '', '', '', '', '', '', '', '', '', '', '', '', '', '', '', '', '', '', '', '', '', '', '', '', '', '', '', '', '', '', '', '', '', '', '', '', '', '', '', '', '', '', '', '', '', '', '', '', '', '', '', '', '', '', '', '', '', '', '', '', '', '', '', '', '', '', '', '', '', '', '', '', '', '', '', '', '', '', '', '', '', '', '']\n",
      "حاجز -> Barr\n",
      "شسيشس -> B-LOC\n",
      "مفتوح -> STAT\n"
     ]
    }
   ],
   "source": [
    "import numpy as np\n",
    "# Use the model to make predictions on new input data\n",
    "text = \"حاجز  شسيشس مفتوح\"\n",
    "# remove extra spaces\n",
    "new_input_seq = input_tokenizer.texts_to_sequences([text])\n",
    "new_input_seq = pad_sequences(new_input_seq, maxlen=max_input_len, padding='post')\n",
    "\n",
    "pred_output_seq = model.predict(new_input_seq)\n",
    "# set the index 0 of pred_output_seq to -inf for all words [0,this dynamic , 0]\n",
    "\n",
    "pred_output_seq = np.argmax(pred_output_seq, axis=-1)\n",
    "\n",
    "pred_named_entities = [output_idx2word.get(idx, '') for idx in pred_output_seq[0]]\n",
    "print(pred_named_entities)\n",
    "# map each word to its predicted named entity\n",
    "for word, ner in zip(text.split(), pred_named_entities):\n",
    "    print(f\"{word} -> {ner}\")"
   ]
  },
  {
   "cell_type": "code",
   "execution_count": 20,
   "metadata": {},
   "outputs": [
    {
     "ename": "NameError",
     "evalue": "name 'max_input_len' is not defined",
     "output_type": "error",
     "traceback": [
      "\u001b[1;31m---------------------------------------------------------------------------\u001b[0m",
      "\u001b[1;31mNameError\u001b[0m                                 Traceback (most recent call last)",
      "\u001b[1;32m~\\AppData\\Local\\Temp\\ipykernel_4772\\2324309606.py\u001b[0m in \u001b[0;36m<module>\u001b[1;34m\u001b[0m\n\u001b[0;32m      4\u001b[0m \u001b[1;31m# remove extra spaces\u001b[0m\u001b[1;33m\u001b[0m\u001b[1;33m\u001b[0m\u001b[1;33m\u001b[0m\u001b[0m\n\u001b[0;32m      5\u001b[0m \u001b[0mnew_input_seq\u001b[0m \u001b[1;33m=\u001b[0m \u001b[0minput_tokenizer\u001b[0m\u001b[1;33m.\u001b[0m\u001b[0mtexts_to_sequences\u001b[0m\u001b[1;33m(\u001b[0m\u001b[1;33m[\u001b[0m\u001b[0mtext\u001b[0m\u001b[1;33m]\u001b[0m\u001b[1;33m)\u001b[0m\u001b[1;33m\u001b[0m\u001b[1;33m\u001b[0m\u001b[0m\n\u001b[1;32m----> 6\u001b[1;33m \u001b[0mnew_input_seq\u001b[0m \u001b[1;33m=\u001b[0m \u001b[0mpad_sequences\u001b[0m\u001b[1;33m(\u001b[0m\u001b[0mnew_input_seq\u001b[0m\u001b[1;33m,\u001b[0m \u001b[0mmaxlen\u001b[0m\u001b[1;33m=\u001b[0m\u001b[0mmax_input_len\u001b[0m\u001b[1;33m,\u001b[0m \u001b[0mpadding\u001b[0m\u001b[1;33m=\u001b[0m\u001b[1;34m'post'\u001b[0m\u001b[1;33m)\u001b[0m\u001b[1;33m\u001b[0m\u001b[1;33m\u001b[0m\u001b[0m\n\u001b[0m\u001b[0;32m      7\u001b[0m \u001b[1;33m\u001b[0m\u001b[0m\n\u001b[0;32m      8\u001b[0m \u001b[0mpred_output_seq\u001b[0m \u001b[1;33m=\u001b[0m \u001b[0mmodel\u001b[0m\u001b[1;33m.\u001b[0m\u001b[0mpredict\u001b[0m\u001b[1;33m(\u001b[0m\u001b[0mnew_input_seq\u001b[0m\u001b[1;33m)\u001b[0m\u001b[1;33m\u001b[0m\u001b[1;33m\u001b[0m\u001b[0m\n",
      "\u001b[1;31mNameError\u001b[0m: name 'max_input_len' is not defined"
     ]
    }
   ],
   "source": [
    "import numpy as np\n",
    "# Use the model to make predictions on new input data\n",
    "text = \"أنا على دير شرف سيسسالك\"\n",
    "# remove extra spaces\n",
    "new_input_seq = input_tokenizer.texts_to_sequences([text])\n",
    "new_input_seq = pad_sequences(new_input_seq, maxlen=max_input_len, padding='post')\n",
    "\n",
    "pred_output_seq = model.predict(new_input_seq)\n",
    "# set the index 0 of pred_output_seq to -inf for all words [0,this dynamic , 0]\n",
    "\n",
    "pred_output_seq = np.argmax(pred_output_seq, axis=-1)\n",
    "\n",
    "pred_named_entities = [output_idx2word.get(idx, '') for idx in pred_output_seq[0]]\n",
    "print(pred_named_entities)\n",
    "# map each word to its predicted named entity\n",
    "for word, ner in zip(text.split(), pred_named_entities):\n",
    "    print(f\"{word} -> {ner}\")"
   ]
  },
  {
   "cell_type": "code",
   "execution_count": 57,
   "metadata": {},
   "outputs": [],
   "source": [
    "# save the model\n",
    "model.save('../models/ner/ner_model.h5')"
   ]
  },
  {
   "cell_type": "code",
   "execution_count": 58,
   "metadata": {},
   "outputs": [
    {
     "data": {
      "text/plain": [
       "['../models/ner/input_tokenizer.pkl']"
      ]
     },
     "execution_count": 58,
     "metadata": {},
     "output_type": "execute_result"
    }
   ],
   "source": [
    "# save the tokenizer\n",
    "import joblib\n",
    "joblib.dump(input_tokenizer, '../models/ner/input_tokenizer.pkl')"
   ]
  },
  {
   "cell_type": "code",
   "execution_count": 60,
   "metadata": {},
   "outputs": [
    {
     "data": {
      "text/plain": [
       "['../models/ner/output_idx2word.pkl']"
      ]
     },
     "execution_count": 60,
     "metadata": {},
     "output_type": "execute_result"
    }
   ],
   "source": [
    "# save the output_idx2word using joblib\n",
    "joblib.dump(output_idx2word, '../models/ner/output_idx2word.pkl')\n"
   ]
  },
  {
   "cell_type": "code",
   "execution_count": 2,
   "metadata": {},
   "outputs": [],
   "source": [
    "# read the model\n",
    "from tensorflow.keras.models import load_model\n",
    "model = load_model('../models/ner/ner_model.h5')\n",
    "# read the tokenizer\n",
    "import joblib\n",
    "input_tokenizer = joblib.load('../models/ner/input_tokenizer.pkl')\n",
    "# read the output_idx2word\n",
    "output_idx2word = joblib.load('../models/ner/output_idx2word.pkl')\n",
    "    "
   ]
  },
  {
   "cell_type": "code",
   "execution_count": 25,
   "metadata": {},
   "outputs": [
    {
     "name": "stdout",
     "output_type": "stream",
     "text": [
      "1/1 [==============================] - 0s 34ms/step\n",
      "['Barr', 'B-LOC', 'STAT', 'O', 'O', 'O', '', '', '', '', '', '', '', '', '', '', '', '', '', '', '', '', '', '', '', '', '', '', '', '', '', '', '', '', '', '', '', '', '', '', '', '', '', '', '', '', '', '', '', '', '', '', '', '', '', '', '', '', '', '', '', '', '', '', '', '', '', '', '', '', '', '', '', '', '', '', '', '', '', '', '', '', '', '', '', '', '', '', '', '', '', '', '', '', '', '', '', '', '', '', '', '', '', '', '', '', '', '', '', '', '', '', '', '', '', '', '', '', '', '', '', '', '', '', '', '', '', '', '', '', '', '', '', '', '', '', '', '', '', '', '', '', '', '', '', '', '', '', '', '', '', '', '', '', '', '', '', '', '', '', '', '', '', '', '', '', '', '', '', '', '', '', '', '', '', '', '', '', '', '', '', '', '', '', '', '', '', '', '', '', '', '', '', '', '', '', '', '', '', '', '', '', '', '', '']\n",
      "حاجز -> Barr\n",
      "صرة -> B-LOC\n",
      "ازمة -> STAT\n",
      "للخارجين -> O\n",
      "من -> O\n",
      "نابلس -> O\n"
     ]
    }
   ],
   "source": [
    "import numpy as np\n",
    "# Use the model to make predictions on new input data\n",
    "text = \"حاجز صرة ازمة للخارجين من نابلس\"\n",
    "# remove extra spaces\n",
    "new_input_seq = input_tokenizer.texts_to_sequences([text])\n",
    "new_input_seq = pad_sequences(new_input_seq, maxlen=205, padding='post')\n",
    "\n",
    "pred_output_seq = model.predict(new_input_seq)\n",
    "# set the index 0 of pred_output_seq to -inf for all words [0,this dynamic , 0]\n",
    "\n",
    "pred_output_seq = np.argmax(pred_output_seq, axis=-1)\n",
    "\n",
    "\n",
    "pred_named_entities = [output_idx2word.get(idx, '') for idx in pred_output_seq[0]]\n",
    "print(pred_named_entities)\n",
    "# map each word to its predicted named entity\n",
    "for word, ner in zip(text.split(), pred_named_entities):\n",
    "    print(f\"{word} -> {ner}\")"
   ]
  },
  {
   "cell_type": "code",
   "execution_count": 33,
   "metadata": {},
   "outputs": [
    {
     "name": "stdout",
     "output_type": "stream",
     "text": [
      "1/1 [==============================] - 0s 256ms/step\n",
      "['O', 'Barr', 'B-LOC', 'STAT', 'STAT', '', '', '', '', '', '', '', '', '', '', '', '', '', '', '', '', '', '', '', '', '', '', '', '', '', '', '', '', '', '', '', '', '', '', '', '', '', '', '', '', '', '', '', '', '', '', '', '', '', '', '', '', '', '', '', '', '', '', '', '', '', '', '', '', '', '', '', '', '', '', '', '', '', '', '', '', '', '', '', '', '', '', '', '', '', '', '', '', '', '', '', '', '', '', '', '', '', '', '', '', '', '', '', '', '', '', '', '', '', '', '', '', '', '', '', '', '', '', '', '', '', '', '', '', '', '', '', '', '', '', '', '', '', '', '', '', '', '', '', '', '', '', '', '', '', '', '', '', '', '', '', '', '', '', '', '', '', '', '', '', '', '', '', '', '', '', '', '', '', '', '', '', '', '', '', '', '', '', '', '', '', '', '', '', '', '', '', '', '', '', '', '', '', '', '', '', '', '', '', '']\n",
      "الان -> O\n",
      "..دوار -> Barr\n",
      "قدوميم -> B-LOC\n",
      "سالك -> STAT\n",
      "ونظيف -> STAT\n"
     ]
    }
   ],
   "source": [
    "import numpy as np\n",
    "# Use the model to make predictions on new input data\n",
    "text = \"الان ..دوار قدوميم سالك ونظيف \"\n",
    "# remove extra spaces\n",
    "new_input_seq = input_tokenizer.texts_to_sequences([text])\n",
    "new_input_seq = pad_sequences(new_input_seq, maxlen=205, padding='post')\n",
    "\n",
    "pred_output_seq = model.predict(new_input_seq)\n",
    "# set the index 0 of pred_output_seq to -inf for all words [0,this dynamic , 0]\n",
    "\n",
    "pred_output_seq = np.argmax(pred_output_seq, axis=-1)\n",
    "\n",
    "pred_named_entities = [output_idx2word.get(idx, '') for idx in pred_output_seq[0]]\n",
    "print(pred_named_entities)\n",
    "# map each word to its predicted named entity\n",
    "for word, ner in zip(text.split(), pred_named_entities):\n",
    "    print(f\"{word} -> {ner}\")"
   ]
  },
  {
   "cell_type": "code",
   "execution_count": null,
   "metadata": {},
   "outputs": [],
   "source": []
  }
 ],
 "metadata": {
  "kernelspec": {
   "display_name": "finall",
   "language": "python",
   "name": "python3"
  },
  "language_info": {
   "codemirror_mode": {
    "name": "ipython",
    "version": 3
   },
   "file_extension": ".py",
   "mimetype": "text/x-python",
   "name": "python",
   "nbconvert_exporter": "python",
   "pygments_lexer": "ipython3",
   "version": "3.7.12"
  },
  "orig_nbformat": 4
 },
 "nbformat": 4,
 "nbformat_minor": 2
}

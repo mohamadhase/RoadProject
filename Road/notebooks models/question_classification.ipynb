{
 "cells": [
  {
   "cell_type": "code",
   "execution_count": 1,
   "metadata": {},
   "outputs": [
    {
     "name": "stderr",
     "output_type": "stream",
     "text": [
      "c:\\Users\\nasser\\.conda\\envs\\finall\\lib\\site-packages\\fuzzywuzzy\\fuzz.py:11: UserWarning: Using slow pure-python SequenceMatcher. Install python-Levenshtein to remove this warning\n",
      "  warnings.warn('Using slow pure-python SequenceMatcher. Install python-Levenshtein to remove this warning')\n"
     ]
    }
   ],
   "source": [
    "from sklearn.base import BaseEstimator, TransformerMixin\n",
    "import sys\n",
    "import os\n",
    "path = os.path.abspath(os.path.join(os.getcwd(), os.pardir))\n",
    "if path not in sys.path:\n",
    "    sys.path.append(path)\n",
    "import pandas as pd\n",
    "from utils.helpers import is_question_arabic\n",
    "import tensorflow as tf\n",
    "import numpy as np\n",
    "import pandas as pd\n",
    "import tensorflow as tf\n",
    "import matplotlib.pyplot as plt\n",
    "import pandas as pd\n",
    "from sklearn.pipeline import Pipeline\n",
    "from sklearn.feature_extraction.text import TfidfVectorizer\n",
    "from sklearn.model_selection import train_test_split\n",
    "from keras.models import Sequential\n",
    "from keras.layers import Embedding, LSTM, Dense\n",
    "from sklearn.pipeline import Pipeline\n",
    "from sklearn.feature_extraction.text import TfidfVectorizer\n",
    "from sklearn.model_selection import train_test_split\n",
    "from tensorflow.keras.models import Sequential\n",
    "from tensorflow.keras.layers import Dense, LSTM\n",
    "from tensorflow.keras.callbacks import EarlyStopping\n",
    "from sklearn.feature_extraction.text import TfidfVectorizer\n",
    "from sklearn.preprocessing import StandardScaler\n",
    "from sklearn.neural_network import MLPClassifier\n",
    "import joblib"
   ]
  },
  {
   "cell_type": "code",
   "execution_count": 2,
   "metadata": {},
   "outputs": [],
   "source": [
    "df = pd.read_csv('../data/raw.csv')"
   ]
  },
  {
   "cell_type": "code",
   "execution_count": 3,
   "metadata": {},
   "outputs": [],
   "source": [
    "df = df[['message']]"
   ]
  },
  {
   "cell_type": "code",
   "execution_count": 4,
   "metadata": {},
   "outputs": [],
   "source": [
    "# remove null values\n",
    "df = df.dropna()"
   ]
  },
  {
   "attachments": {},
   "cell_type": "markdown",
   "metadata": {},
   "source": [
    "# Label data using Regex"
   ]
  },
  {
   "cell_type": "code",
   "execution_count": 5,
   "metadata": {},
   "outputs": [],
   "source": [
    "df['is_question'] = df['message'].apply(lambda x : 1 if is_question_arabic(x) else 0)"
   ]
  },
  {
   "attachments": {},
   "cell_type": "markdown",
   "metadata": {},
   "source": [
    "# Train NN model"
   ]
  },
  {
   "cell_type": "code",
   "execution_count": 6,
   "metadata": {},
   "outputs": [],
   "source": [
    "messages = df['message'].values\n",
    "labels = df['is_question'].values\n",
    "vocab_size = 10000 # Choose a vocabulary size\n",
    "tokenizer = tf.keras.preprocessing.text.Tokenizer(num_words=vocab_size)\n",
    "tokenizer.fit_on_texts(messages)\n",
    "sequences = tokenizer.texts_to_sequences(messages)\n",
    "X = tf.keras.preprocessing.sequence.pad_sequences(sequences, maxlen=100)\n",
    "y = tf.keras.utils.to_categorical(labels)\n",
    "X_train, X_test, y_train, y_test = train_test_split(X, y, test_size=0.2, random_state=42)"
   ]
  },
  {
   "cell_type": "code",
   "execution_count": 7,
   "metadata": {},
   "outputs": [],
   "source": [
    "# Define RNN model\n",
    "model = tf.keras.Sequential([\n",
    "    tf.keras.layers.Embedding(vocab_size, 32),\n",
    "    tf.keras.layers.LSTM(64),\n",
    "    tf.keras.layers.Dense(32, activation='relu'),\n",
    "    tf.keras.layers.Dropout(0.5),\n",
    "    tf.keras.layers.Dense(2, activation='softmax')\n",
    "])"
   ]
  },
  {
   "cell_type": "code",
   "execution_count": 8,
   "metadata": {},
   "outputs": [],
   "source": [
    "# Compile model\n",
    "model.compile(loss='categorical_crossentropy', optimizer='adam', metrics=['accuracy'])\n"
   ]
  },
  {
   "cell_type": "code",
   "execution_count": 9,
   "metadata": {},
   "outputs": [
    {
     "name": "stdout",
     "output_type": "stream",
     "text": [
      "Epoch 1/20\n",
      "25/25 [==============================] - 6s 42ms/step - loss: 0.6629 - accuracy: 0.5987 - val_loss: 0.6158 - val_accuracy: 0.6452\n",
      "Epoch 2/20\n",
      "25/25 [==============================] - 1s 26ms/step - loss: 0.5108 - accuracy: 0.7669 - val_loss: 0.3302 - val_accuracy: 0.8624\n",
      "Epoch 3/20\n",
      "25/25 [==============================] - 1s 27ms/step - loss: 0.2426 - accuracy: 0.9135 - val_loss: 0.1527 - val_accuracy: 0.9473\n",
      "Epoch 4/20\n",
      "25/25 [==============================] - 1s 26ms/step - loss: 0.1160 - accuracy: 0.9663 - val_loss: 0.1338 - val_accuracy: 0.9536\n",
      "Epoch 5/20\n",
      "25/25 [==============================] - 1s 27ms/step - loss: 0.0801 - accuracy: 0.9795 - val_loss: 0.1080 - val_accuracy: 0.9664\n",
      "Epoch 6/20\n",
      "25/25 [==============================] - 1s 26ms/step - loss: 0.0658 - accuracy: 0.9836 - val_loss: 0.1319 - val_accuracy: 0.9646\n",
      "Epoch 7/20\n",
      "25/25 [==============================] - 1s 27ms/step - loss: 0.0742 - accuracy: 0.9810 - val_loss: 0.1061 - val_accuracy: 0.9675\n",
      "Epoch 8/20\n",
      "25/25 [==============================] - 1s 27ms/step - loss: 0.0602 - accuracy: 0.9854 - val_loss: 0.1020 - val_accuracy: 0.9695\n",
      "Epoch 9/20\n",
      "25/25 [==============================] - 1s 27ms/step - loss: 0.0539 - accuracy: 0.9872 - val_loss: 0.1056 - val_accuracy: 0.9692\n",
      "Epoch 10/20\n",
      "25/25 [==============================] - 1s 27ms/step - loss: 0.0519 - accuracy: 0.9871 - val_loss: 0.1157 - val_accuracy: 0.9644\n",
      "Epoch 11/20\n",
      "25/25 [==============================] - 1s 27ms/step - loss: 0.0485 - accuracy: 0.9881 - val_loss: 0.1145 - val_accuracy: 0.9690\n"
     ]
    }
   ],
   "source": [
    "# Train model and prevent overfitting with early stopping\n",
    "early_stopping = tf.keras.callbacks.EarlyStopping(monitor='val_loss', patience=3, restore_best_weights=True)\n",
    "history = model.fit(X_train, y_train, epochs=20, batch_size=2048, validation_split=0.2, callbacks=[early_stopping])\n"
   ]
  },
  {
   "cell_type": "code",
   "execution_count": 10,
   "metadata": {},
   "outputs": [
    {
     "name": "stdout",
     "output_type": "stream",
     "text": [
      "499/499 [==============================] - 3s 5ms/step - loss: 0.1125 - accuracy: 0.9655\n",
      "Loss on test set: 0.11254055798053741\n",
      "Accuracy on test set: 0.9655020833015442\n"
     ]
    },
    {
     "data": {
      "text/plain": [
       "['..\\\\models\\\\question_tokenizer.joblib']"
      ]
     },
     "execution_count": 10,
     "metadata": {},
     "output_type": "execute_result"
    }
   ],
   "source": [
    "# Evaluate model on test set\n",
    "loss, accuracy = model.evaluate(X_test, y_test)\n",
    "print(f\"Loss on test set: {loss}\")\n",
    "print(f\"Accuracy on test set: {accuracy}\")\n",
    "\n",
    "# Save model and tokenizer\n",
    "model.save('..\\models\\question_classifier.h5')\n",
    "joblib.dump(tokenizer, '..\\models\\question_tokenizer.joblib')"
   ]
  },
  {
   "cell_type": "code",
   "execution_count": 11,
   "metadata": {},
   "outputs": [
    {
     "name": "stdout",
     "output_type": "stream",
     "text": [
      "1/1 [==============================] - 0s 259ms/step\n"
     ]
    },
    {
     "data": {
      "text/plain": [
       "array([[0.00298598, 0.99701405]], dtype=float32)"
      ]
     },
     "execution_count": 11,
     "metadata": {},
     "output_type": "execute_result"
    }
   ],
   "source": [
    "# create dataframa with text and predict if it is a question or not\n",
    "new_df = pd.DataFrame({'message': ['شو الاخبار ']})\n",
    "# add more rows\n",
    "\n",
    "# tokenize the text\n",
    "new_sequences = tokenizer.texts_to_sequences(new_df['message'].values)\n",
    "# pad the sequences\n",
    "new_X = tf.keras.preprocessing.sequence.pad_sequences(new_sequences, maxlen=100)\n",
    "# predict\n",
    "model.predict(new_X)\n"
   ]
  },
  {
   "cell_type": "code",
   "execution_count": null,
   "metadata": {},
   "outputs": [],
   "source": []
  }
 ],
 "metadata": {
  "kernelspec": {
   "display_name": "finall",
   "language": "python",
   "name": "python3"
  },
  "language_info": {
   "codemirror_mode": {
    "name": "ipython",
    "version": 3
   },
   "file_extension": ".py",
   "mimetype": "text/x-python",
   "name": "python",
   "nbconvert_exporter": "python",
   "pygments_lexer": "ipython3",
   "version": "3.7.12"
  },
  "orig_nbformat": 4
 },
 "nbformat": 4,
 "nbformat_minor": 2
}

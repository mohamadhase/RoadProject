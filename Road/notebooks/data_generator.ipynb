{
 "cells": [
  {
   "cell_type": "code",
   "execution_count": 1,
   "metadata": {},
   "outputs": [
    {
     "name": "stderr",
     "output_type": "stream",
     "text": [
      "c:\\Users\\nasser\\AppData\\Local\\Programs\\Python\\Python311\\Lib\\site-packages\\fuzzywuzzy\\fuzz.py:11: UserWarning: Using slow pure-python SequenceMatcher. Install python-Levenshtein to remove this warning\n",
      "  warnings.warn('Using slow pure-python SequenceMatcher. Install python-Levenshtein to remove this warning')\n"
     ]
    }
   ],
   "source": [
    "import pandas as pd\n",
    "import os\n",
    "import sys\n",
    "parent_path = os.path.abspath(os.path.join(os.getcwd(), os.pardir))\n",
    "sys.path.append(os.path.abspath(parent_path))\n",
    "from constants import HAWAJEZ ,INFORMATION_WORDS,WORDS_SYNENOMS\n",
    "from fuzzywuzzy import fuzz\n",
    "import random"
   ]
  },
  {
   "cell_type": "code",
   "execution_count": 2,
   "metadata": {},
   "outputs": [],
   "source": [
    "data = pd.read_csv('../data/cleaned_transformed_data.csv')"
   ]
  },
  {
   "cell_type": "code",
   "execution_count": 3,
   "metadata": {},
   "outputs": [],
   "source": [
    "# make the dataframe from full_text column only\n",
    "data = data[['full_text']]"
   ]
  },
  {
   "cell_type": "code",
   "execution_count": 4,
   "metadata": {},
   "outputs": [
    {
     "data": {
      "text/plain": [
       "(23261, 1)"
      ]
     },
     "execution_count": 4,
     "metadata": {},
     "output_type": "execute_result"
    }
   ],
   "source": [
    "data.shape"
   ]
  },
  {
   "cell_type": "code",
   "execution_count": 5,
   "metadata": {},
   "outputs": [],
   "source": [
    "data.fillna('', inplace=True)"
   ]
  },
  {
   "cell_type": "code",
   "execution_count": 6,
   "metadata": {},
   "outputs": [],
   "source": [
    "def replace_word_with_hawajez(text):\n",
    "    \"\"\"Replace a word in the given text with a random word from the Hawajez list.\"\"\"\n",
    "    for word in HAWAJEZ:\n",
    "        if word in text:\n",
    "            new_word = random.choice(HAWAJEZ)\n",
    "            return text.replace(word, new_word)\n",
    "    return text"
   ]
  },
  {
   "cell_type": "code",
   "execution_count": 7,
   "metadata": {},
   "outputs": [],
   "source": [
    "\n",
    "def replace_status_with_new_status(text):\n",
    "    \"\"\"Replace a word in the given text with a random word from the Hawajez list.\"\"\"\n",
    "    for  info in INFORMATION_WORDS:\n",
    "        if info in text:\n",
    "            new_info = random.choice(INFORMATION_WORDS)\n",
    "            return text.replace(info, new_info)\n",
    "    return text"
   ]
  },
  {
   "cell_type": "code",
   "execution_count": 8,
   "metadata": {},
   "outputs": [],
   "source": [
    "def replace_word_with_synonym(text):\n",
    "    \"\"\"Replace a word in the given text with a random word from the Hawajez list.\"\"\"\n",
    "    for word in WORDS_SYNENOMS:\n",
    "        # use fuzzywuzzy to find the closest word instead of exact match\n",
    "\n",
    "        score = fuzz.partial_ratio(word, text)\n",
    "        \n",
    "        if score > 80:\n",
    "            new_word = random.choice(WORDS_SYNENOMS[word])\n",
    "            text = text.replace(word, new_word)\n",
    "    return text"
   ]
  },
  {
   "cell_type": "code",
   "execution_count": 9,
   "metadata": {},
   "outputs": [
    {
     "name": "stdout",
     "output_type": "stream",
     "text": [
      "0\n",
      "1000\n",
      "2000\n",
      "3000\n",
      "4000\n",
      "5000\n",
      "6000\n",
      "7000\n",
      "8000\n",
      "9000\n",
      "10000\n",
      "11000\n",
      "12000\n",
      "13000\n",
      "14000\n",
      "15000\n",
      "16000\n",
      "17000\n",
      "18000\n",
      "19000\n",
      "20000\n",
      "21000\n",
      "22000\n",
      "23000\n"
     ]
    }
   ],
   "source": [
    "import concurrent.futures\n",
    "import warnings\n",
    "\n",
    "warnings.filterwarnings('ignore')\n",
    "\n",
    "\n",
    "new_data = pd.DataFrame(columns=[\"full_text\"])\n",
    "def process_row(row):\n",
    "    # print flag every 1000 rows\n",
    "    if row.name % 1000 == 0:\n",
    "        print(row.name)\n",
    "    new_rows = []\n",
    "    for i in range(0, random.randint(10,20)):\n",
    "        new_text = replace_word_with_hawajez(row[\"full_text\"])\n",
    "        new_text_status = replace_status_with_new_status(new_text)\n",
    "        new_text_synonym = replace_word_with_synonym(new_text_status)\n",
    "        if new_text:\n",
    "            new_rows.append({\"full_text\": new_text_synonym})\n",
    "    return new_rows\n",
    "\n",
    "# Use ThreadPoolExecutor to run the loop in parallel threads\n",
    "with concurrent.futures.ThreadPoolExecutor() as executor:\n",
    "    # Submit a thread for each row in the data\n",
    "    future_to_row = {executor.submit(process_row, row): row for _, row in data.iterrows()}\n",
    "    # Collect the results as they become available\n",
    "    for future in concurrent.futures.as_completed(future_to_row):\n",
    "        new_rows = future.result()\n",
    "        # Append the new rows to the new data\n",
    "        if new_rows:\n",
    "            new_data = new_data.append(new_rows, ignore_index=True)\n",
    "\n",
    "pd.set_option('display.max_colwidth', None)\n",
    "new_data.shape\n",
    "# should i concatinat the new data with the old data ? \n",
    "# a: yes\n",
    "# show me how ?\n",
    "data = pd.concat([data, new_data], ignore_index=True)"
   ]
  },
  {
   "cell_type": "code",
   "execution_count": 10,
   "metadata": {},
   "outputs": [
    {
     "data": {
      "text/plain": [
       "(372085, 1)"
      ]
     },
     "execution_count": 10,
     "metadata": {},
     "output_type": "execute_result"
    }
   ],
   "source": [
    "data.shape"
   ]
  },
  {
   "cell_type": "code",
   "execution_count": 11,
   "metadata": {},
   "outputs": [
    {
     "data": {
      "text/plain": [
       "full_text    0\n",
       "dtype: int64"
      ]
     },
     "execution_count": 11,
     "metadata": {},
     "output_type": "execute_result"
    }
   ],
   "source": [
    "# check if theres any null values\n",
    "data.isnull().sum()"
   ]
  },
  {
   "cell_type": "code",
   "execution_count": 12,
   "metadata": {},
   "outputs": [],
   "source": [
    "# suffle the rows\n",
    "data = data.sample(frac=1).reset_index(drop=True)"
   ]
  },
  {
   "cell_type": "code",
   "execution_count": 20,
   "metadata": {},
   "outputs": [
    {
     "data": {
      "text/html": [
       "<div>\n",
       "<style scoped>\n",
       "    .dataframe tbody tr th:only-of-type {\n",
       "        vertical-align: middle;\n",
       "    }\n",
       "\n",
       "    .dataframe tbody tr th {\n",
       "        vertical-align: top;\n",
       "    }\n",
       "\n",
       "    .dataframe thead th {\n",
       "        text-align: right;\n",
       "    }\n",
       "</style>\n",
       "<table border=\"1\" class=\"dataframe\">\n",
       "  <thead>\n",
       "    <tr style=\"text-align: right;\">\n",
       "      <th></th>\n",
       "      <th>full_text</th>\n",
       "    </tr>\n",
       "  </thead>\n",
       "  <tbody>\n",
       "    <tr>\n",
       "      <th>50000</th>\n",
       "      <td>يا يجماعة زعتره مسكره بس للخارج من الكنتينرا رامالله والكنتينرا قبلان</td>\n",
       "    </tr>\n",
       "    <tr>\n",
       "      <th>50001</th>\n",
       "      <td>حواره أزمة</td>\n",
       "    </tr>\n",
       "    <tr>\n",
       "      <th>50002</th>\n",
       "      <td>دوار المربعه اغلاقحركة سير قوية من كل الاتجاهات</td>\n",
       "    </tr>\n",
       "    <tr>\n",
       "      <th>50003</th>\n",
       "      <td>بيت فويك مسكر</td>\n",
       "    </tr>\n",
       "    <tr>\n",
       "      <th>50004</th>\n",
       "      <td>شباب الكنتينر زطمه ولا مسكرة</td>\n",
       "    </tr>\n",
       "    <tr>\n",
       "      <th>50005</th>\n",
       "      <td>قرني شمرون مازم سكرو</td>\n",
       "    </tr>\n",
       "    <tr>\n",
       "      <th>50006</th>\n",
       "      <td>حواره مغلق|||صحيحة الكونتينر أزمة ل الفايت و الي طالع على نابلس</td>\n",
       "    </tr>\n",
       "    <tr>\n",
       "      <th>50007</th>\n",
       "      <td>محسوم بيت فوريكء سالك وما في ازمة الكل طلع في اتجاه نابلس اكتضاض على الطالع</td>\n",
       "    </tr>\n",
       "    <tr>\n",
       "      <th>50008</th>\n",
       "      <td>في عملية اطلاق نار ع مسكر الكنتينر الرجاء الانتباه</td>\n",
       "    </tr>\n",
       "    <tr>\n",
       "      <th>50009</th>\n",
       "      <td>بيت فوريك تشديد عالخارج الان</td>\n",
       "    </tr>\n",
       "  </tbody>\n",
       "</table>\n",
       "</div>"
      ],
      "text/plain": [
       "                                                                         full_text\n",
       "50000        يا يجماعة زعتره مسكره بس للخارج من الكنتينرا رامالله والكنتينرا قبلان\n",
       "50001                                                                   حواره أزمة\n",
       "50002                              دوار المربعه اغلاقحركة سير قوية من كل الاتجاهات\n",
       "50003                                                                بيت فويك مسكر\n",
       "50004                                                 شباب الكنتينر زطمه ولا مسكرة\n",
       "50005                                                         قرني شمرون مازم سكرو\n",
       "50006              حواره مغلق|||صحيحة الكونتينر أزمة ل الفايت و الي طالع على نابلس\n",
       "50007  محسوم بيت فوريكء سالك وما في ازمة الكل طلع في اتجاه نابلس اكتضاض على الطالع\n",
       "50008                           في عملية اطلاق نار ع مسكر الكنتينر الرجاء الانتباه\n",
       "50009                                                 بيت فوريك تشديد عالخارج الان"
      ]
     },
     "execution_count": 20,
     "metadata": {},
     "output_type": "execute_result"
    }
   ],
   "source": [
    "data.iloc[50000:50010]"
   ]
  },
  {
   "cell_type": "code",
   "execution_count": 285,
   "metadata": {},
   "outputs": [],
   "source": [
    "data = data[['full_text']]\n",
    "data.to_csv('../data/more_data_v4.csv', index=False)"
   ]
  }
 ],
 "metadata": {
  "kernelspec": {
   "display_name": "Python 3",
   "language": "python",
   "name": "python3"
  },
  "language_info": {
   "codemirror_mode": {
    "name": "ipython",
    "version": 3
   },
   "file_extension": ".py",
   "mimetype": "text/x-python",
   "name": "python",
   "nbconvert_exporter": "python",
   "pygments_lexer": "ipython3",
   "version": "3.11.2"
  },
  "orig_nbformat": 4
 },
 "nbformat": 4,
 "nbformat_minor": 2
}

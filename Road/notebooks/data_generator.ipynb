{
 "cells": [
  {
   "cell_type": "code",
   "execution_count": 78,
   "metadata": {},
   "outputs": [],
   "source": [
    "import pandas as pd\n",
    "import os\n",
    "import sys\n",
    "parent_path = os.path.abspath(os.path.join(os.getcwd(), os.pardir))\n",
    "sys.path.append(os.path.abspath(parent_path))\n",
    "from constants import HAWAJEZ ,INFORMATION_WORDS\n",
    "import random"
   ]
  },
  {
   "cell_type": "code",
   "execution_count": 157,
   "metadata": {},
   "outputs": [],
   "source": [
    "data = pd.read_csv('../data/cleaned_transformed_data.csv')\n"
   ]
  },
  {
   "cell_type": "code",
   "execution_count": 158,
   "metadata": {},
   "outputs": [],
   "source": [
    "# make the dataframe from full_text column only\n",
    "data = data[['full_text']]"
   ]
  },
  {
   "cell_type": "code",
   "execution_count": 159,
   "metadata": {},
   "outputs": [],
   "source": [
    "def replace_word_with_hawajez(text):\n",
    "    \"\"\"Replace a word in the given text with a random word from the Hawajez list.\"\"\"\n",
    "    for word in HAWAJEZ:\n",
    "        if word in text:\n",
    "            new_word = random.choice(HAWAJEZ)\n",
    "            return text.replace(word, new_word)\n",
    "    return text"
   ]
  },
  {
   "cell_type": "code",
   "execution_count": 160,
   "metadata": {},
   "outputs": [],
   "source": [
    "\n",
    "def replace_status_with_new_status(text):\n",
    "    \"\"\"Replace a word in the given text with a random word from the Hawajez list.\"\"\"\n",
    "    for  info in INFORMATION_WORDS:\n",
    "        if info in text:\n",
    "            new_info = random.choice(INFORMATION_WORDS)\n",
    "            return text.replace(info, new_info)\n",
    "    return text"
   ]
  },
  {
   "cell_type": "code",
   "execution_count": 161,
   "metadata": {},
   "outputs": [],
   "source": [
    "import concurrent.futures\n",
    "import warnings\n",
    "\n",
    "warnings.filterwarnings('ignore')\n",
    "\n",
    "\n",
    "new_data = pd.DataFrame(columns=[\"full_text\"])\n",
    "def process_row(row):\n",
    "    new_rows = []\n",
    "    for i in range(0, random.randint(30,50)):\n",
    "        new_text = replace_word_with_hawajez(row[\"full_text\"])\n",
    "        new_text_status = replace_status_with_new_status(new_text)\n",
    "        if new_text:\n",
    "            new_rows.append({\"full_text\": new_text_status})\n",
    "    return new_rows\n",
    "\n",
    "# Use ThreadPoolExecutor to run the loop in parallel threads\n",
    "with concurrent.futures.ThreadPoolExecutor() as executor:\n",
    "    # Submit a thread for each row in the data\n",
    "    future_to_row = {executor.submit(process_row, row): row for _, row in data.iterrows()}\n",
    "    # Collect the results as they become available\n",
    "    for future in concurrent.futures.as_completed(future_to_row):\n",
    "        new_rows = future.result()\n",
    "        # Append the new rows to the new data\n",
    "        if new_rows:\n",
    "            new_data = new_data.append(new_rows, ignore_index=True)\n",
    "\n",
    "pd.set_option('display.max_colwidth', None)\n",
    "new_data.shape\n",
    "# should i concatinat the new data with the old data ? \n",
    "# a: yes\n",
    "# show me how ?\n",
    "data = pd.concat([data, new_data], ignore_index=True)"
   ]
  },
  {
   "cell_type": "code",
   "execution_count": 162,
   "metadata": {},
   "outputs": [
    {
     "data": {
      "text/plain": [
       "(805422, 1)"
      ]
     },
     "execution_count": 162,
     "metadata": {},
     "output_type": "execute_result"
    }
   ],
   "source": [
    "data.shape"
   ]
  },
  {
   "cell_type": "code",
   "execution_count": 165,
   "metadata": {},
   "outputs": [
    {
     "data": {
      "text/plain": [
       "full_text    0\n",
       "dtype: int64"
      ]
     },
     "execution_count": 165,
     "metadata": {},
     "output_type": "execute_result"
    }
   ],
   "source": [
    "# check if theres any null values\n",
    "data.isnull().sum()"
   ]
  },
  {
   "cell_type": "code",
   "execution_count": 176,
   "metadata": {},
   "outputs": [],
   "source": [
    "# suffle the rows\n",
    "data = data.sample(frac=1).reset_index(drop=True)"
   ]
  },
  {
   "cell_type": "code",
   "execution_count": 177,
   "metadata": {},
   "outputs": [
    {
     "data": {
      "text/html": [
       "<div>\n",
       "<style scoped>\n",
       "    .dataframe tbody tr th:only-of-type {\n",
       "        vertical-align: middle;\n",
       "    }\n",
       "\n",
       "    .dataframe tbody tr th {\n",
       "        vertical-align: top;\n",
       "    }\n",
       "\n",
       "    .dataframe thead th {\n",
       "        text-align: right;\n",
       "    }\n",
       "</style>\n",
       "<table border=\"1\" class=\"dataframe\">\n",
       "  <thead>\n",
       "    <tr style=\"text-align: right;\">\n",
       "      <th></th>\n",
       "      <th>full_text</th>\n",
       "    </tr>\n",
       "  </thead>\n",
       "  <tbody>\n",
       "    <tr>\n",
       "      <th>50000</th>\n",
       "      <td>حاليا دوار جبع علي سيارتين شرطه وفي سحب سيارات</td>\n",
       "    </tr>\n",
       "    <tr>\n",
       "      <th>50001</th>\n",
       "      <td>من باب رامي ليفي لالمربعه مغلق واقفه</td>\n",
       "    </tr>\n",
       "    <tr>\n",
       "      <th>50002</th>\n",
       "      <td>نظيف الكنتنر فل الفل</td>\n",
       "    </tr>\n",
       "    <tr>\n",
       "      <th>50003</th>\n",
       "      <td>دي سي؟|||فش اشي</td>\n",
       "    </tr>\n",
       "    <tr>\n",
       "      <th>50004</th>\n",
       "      <td>المربعه مفتوحة|||اا مفتوحة</td>\n",
       "    </tr>\n",
       "    <tr>\n",
       "      <th>50005</th>\n",
       "      <td>الفندق|||مستوطنة</td>\n",
       "    </tr>\n",
       "    <tr>\n",
       "      <th>50006</th>\n",
       "      <td>صرة للداخل شو وضعه|||تفتيشة</td>\n",
       "    </tr>\n",
       "    <tr>\n",
       "      <th>50007</th>\n",
       "      <td>كل الطرق نظيف فقط حاجز حواره مسكر للداخل والخارج طريق الكونتينر فاتحه للداخل والخارج</td>\n",
       "    </tr>\n",
       "    <tr>\n",
       "      <th>50008</th>\n",
       "      <td>عراق بورين للخارج من نابلس تفتيش دقيق وازمة للداخل فاتح البديل عن حاجز عراق بورين عن معبر عورتاصرة فاتحة بالاتجاهين لهاي اللحظة دير شرف فاتح بالاتجاهين لهاي اللحظةخط يتسهار فاتح  المربعة حاجز وتفتيش عراق بورين سكروها بالتراببيت فوريك تفتيش دقيق وازمةخط رام الله كامل فاتحبيت ايل فاتحخط عراق بورين البلد فاتح مع تواجد للجيش</td>\n",
       "    </tr>\n",
       "    <tr>\n",
       "      <th>50009</th>\n",
       "      <td>في اشي على الطنيب ولا خرجت|||لا خرجت</td>\n",
       "    </tr>\n",
       "  </tbody>\n",
       "</table>\n",
       "</div>"
      ],
      "text/plain": [
       "                                                                                                                                                                                                                                                                                                                                full_text\n",
       "50000                                                                                                                                                                                                                                                                                      حاليا دوار جبع علي سيارتين شرطه وفي سحب سيارات\n",
       "50001                                                                                                                                                                                                                                                                                                من باب رامي ليفي لالمربعه مغلق واقفه\n",
       "50002                                                                                                                                                                                                                                                                                                                نظيف الكنتنر فل الفل\n",
       "50003                                                                                                                                                                                                                                                                                                                     دي سي؟|||فش اشي\n",
       "50004                                                                                                                                                                                                                                                                                                          المربعه مفتوحة|||اا مفتوحة\n",
       "50005                                                                                                                                                                                                                                                                                                                    الفندق|||مستوطنة\n",
       "50006                                                                                                                                                                                                                                                                                                         صرة للداخل شو وضعه|||تفتيشة\n",
       "50007                                                                                                                                                                                                                                                كل الطرق نظيف فقط حاجز حواره مسكر للداخل والخارج طريق الكونتينر فاتحه للداخل والخارج\n",
       "50008  عراق بورين للخارج من نابلس تفتيش دقيق وازمة للداخل فاتح البديل عن حاجز عراق بورين عن معبر عورتاصرة فاتحة بالاتجاهين لهاي اللحظة دير شرف فاتح بالاتجاهين لهاي اللحظةخط يتسهار فاتح  المربعة حاجز وتفتيش عراق بورين سكروها بالتراببيت فوريك تفتيش دقيق وازمةخط رام الله كامل فاتحبيت ايل فاتحخط عراق بورين البلد فاتح مع تواجد للجيش\n",
       "50009                                                                                                                                                                                                                                                                                                في اشي على الطنيب ولا خرجت|||لا خرجت"
      ]
     },
     "execution_count": 177,
     "metadata": {},
     "output_type": "execute_result"
    }
   ],
   "source": [
    "data.iloc[50000:50010]"
   ]
  },
  {
   "cell_type": "code",
   "execution_count": 179,
   "metadata": {},
   "outputs": [],
   "source": [
    "data = data[['full_text']]\n",
    "data.to_csv('../data/more_data.csv', index=False)"
   ]
  }
 ],
 "metadata": {
  "kernelspec": {
   "display_name": "Python 3",
   "language": "python",
   "name": "python3"
  },
  "language_info": {
   "codemirror_mode": {
    "name": "ipython",
    "version": 3
   },
   "file_extension": ".py",
   "mimetype": "text/x-python",
   "name": "python",
   "nbconvert_exporter": "python",
   "pygments_lexer": "ipython3",
   "version": "3.11.2"
  },
  "orig_nbformat": 4
 },
 "nbformat": 4,
 "nbformat_minor": 2
}

{
 "cells": [
  {
   "cell_type": "code",
   "execution_count": 51,
   "metadata": {},
   "outputs": [],
   "source": [
    "import sys\n",
    "import os\n",
    "path = os.path.abspath(os.path.join(os.getcwd(), os.pardir))\n",
    "if path not in sys.path:\n",
    "    sys.path.append(path)\n",
    "import pandas as pd\n",
    "import numpy as np\n",
    "from custom_transformers.CustomTransformers import Cleaner , ReplyFinder , QuestionClassifier ,InformationClassifier\n",
    "from custom_transformers.CustomTransformers import CombineMessageReply  \n",
    "from custom_transformers.CustomTransformers import GetLocationList,GetStatusList,FilterIsGivingInformation\n",
    "from custom_transformers.CustomTransformers import FilterHasLoc,FilterHasStat,GenerateSummary,NerClassifier\n",
    "from constants import COLUMNS_WE_NEED\n",
    "from utils.transform_data import transform_reply_to\n",
    "from utils.clean_data import clean_text\n",
    "from sklearn.pipeline import Pipeline\n",
    "\n"
   ]
  },
  {
   "cell_type": "code",
   "execution_count": 52,
   "metadata": {},
   "outputs": [],
   "source": [
    "df = pd.read_csv('../data/raw.csv')"
   ]
  },
  {
   "cell_type": "code",
   "execution_count": 53,
   "metadata": {},
   "outputs": [
    {
     "data": {
      "text/html": [
       "<div>\n",
       "<style scoped>\n",
       "    .dataframe tbody tr th:only-of-type {\n",
       "        vertical-align: middle;\n",
       "    }\n",
       "\n",
       "    .dataframe tbody tr th {\n",
       "        vertical-align: top;\n",
       "    }\n",
       "\n",
       "    .dataframe thead th {\n",
       "        text-align: right;\n",
       "    }\n",
       "</style>\n",
       "<table border=\"1\" class=\"dataframe\">\n",
       "  <thead>\n",
       "    <tr style=\"text-align: right;\">\n",
       "      <th></th>\n",
       "      <th>_</th>\n",
       "      <th>id</th>\n",
       "      <th>peer_id</th>\n",
       "      <th>date</th>\n",
       "      <th>message</th>\n",
       "      <th>out</th>\n",
       "      <th>mentioned</th>\n",
       "      <th>media_unread</th>\n",
       "      <th>silent</th>\n",
       "      <th>post</th>\n",
       "      <th>...</th>\n",
       "      <th>entities</th>\n",
       "      <th>views</th>\n",
       "      <th>forwards</th>\n",
       "      <th>replies</th>\n",
       "      <th>edit_date</th>\n",
       "      <th>post_author</th>\n",
       "      <th>grouped_id</th>\n",
       "      <th>reactions</th>\n",
       "      <th>restriction_reason</th>\n",
       "      <th>ttl_period</th>\n",
       "    </tr>\n",
       "  </thead>\n",
       "  <tbody>\n",
       "    <tr>\n",
       "      <th>0</th>\n",
       "      <td>Message</td>\n",
       "      <td>428911</td>\n",
       "      <td>{'_': 'PeerChannel', 'channel_id': 1756020315}</td>\n",
       "      <td>2023-03-17 11:04:46+00:00</td>\n",
       "      <td>الدي سي اوه عليه مشاكل ؟؟</td>\n",
       "      <td>False</td>\n",
       "      <td>False</td>\n",
       "      <td>False</td>\n",
       "      <td>False</td>\n",
       "      <td>False</td>\n",
       "      <td>...</td>\n",
       "      <td>[]</td>\n",
       "      <td>NaN</td>\n",
       "      <td>NaN</td>\n",
       "      <td>{'_': 'MessageReplies', 'replies': 0, 'replies...</td>\n",
       "      <td>NaN</td>\n",
       "      <td>NaN</td>\n",
       "      <td>NaN</td>\n",
       "      <td>NaN</td>\n",
       "      <td>[]</td>\n",
       "      <td>86400.0</td>\n",
       "    </tr>\n",
       "  </tbody>\n",
       "</table>\n",
       "<p>1 rows × 31 columns</p>\n",
       "</div>"
      ],
      "text/plain": [
       "         _      id                                         peer_id  \\\n",
       "0  Message  428911  {'_': 'PeerChannel', 'channel_id': 1756020315}   \n",
       "\n",
       "                        date                    message    out  mentioned  \\\n",
       "0  2023-03-17 11:04:46+00:00  الدي سي اوه عليه مشاكل ؟؟  False      False   \n",
       "\n",
       "   media_unread  silent   post  ...  entities  views  forwards  \\\n",
       "0         False   False  False  ...        []    NaN       NaN   \n",
       "\n",
       "                                             replies  edit_date post_author  \\\n",
       "0  {'_': 'MessageReplies', 'replies': 0, 'replies...        NaN         NaN   \n",
       "\n",
       "  grouped_id  reactions restriction_reason ttl_period  \n",
       "0        NaN        NaN                 []    86400.0  \n",
       "\n",
       "[1 rows x 31 columns]"
      ]
     },
     "execution_count": 53,
     "metadata": {},
     "output_type": "execute_result"
    }
   ],
   "source": [
    "df.head(1)"
   ]
  },
  {
   "cell_type": "code",
   "execution_count": 54,
   "metadata": {},
   "outputs": [],
   "source": [
    "df = df.sample(5)"
   ]
  },
  {
   "cell_type": "code",
   "execution_count": 55,
   "metadata": {},
   "outputs": [],
   "source": [
    "df['message']  = \"حاجز  المنوفية مسكر\""
   ]
  },
  {
   "cell_type": "code",
   "execution_count": 56,
   "metadata": {},
   "outputs": [],
   "source": [
    "from sklearn.base import BaseEstimator, TransformerMixin\n",
    "import sys\n",
    "import os\n",
    "import joblib\n",
    "\n",
    "from utils.helpers import combine_sub_words, word2features\n",
    "path = os.path.abspath(os.path.join(os.getcwd(), os.pardir))\n",
    "if path not in sys.path:\n",
    "    sys.path.append(path)\n",
    "from keras.models import load_model\n",
    "   \n",
    "from utils.clean_data import clean_text\n",
    "from constants import COLUMNS_WE_NEED\n",
    "from utils.transform_data import transform_reply_to\n",
    "import tensorflow as tf\n",
    "import pyarabic.araby as araby\n",
    "from transformers import AutoTokenizer, AutoModelForTokenClassification\n",
    "from transformers import pipeline\n",
    "\n"
   ]
  },
  {
   "cell_type": "code",
   "execution_count": 57,
   "metadata": {},
   "outputs": [],
   "source": [
    "pep = Pipeline([('cleaner', Cleaner()), ('reply_finder', ReplyFinder()),\n",
    "                     (\"question_classifier\",QuestionClassifier()),(\"information_classifier\",InformationClassifier())\n",
    "                     ,(\"combine_message_reply\",CombineMessageReply()),(\"filter\",FilterIsGivingInformation()),\n",
    "                     (\"ner_crf_classifier\",NerClassifier()),(\"Locations\",GetLocationList()),(\"Status\",GetStatusList()),\n",
    "                     (\"filter_has_loc\",FilterHasLoc()),(\"filter_has_stat\",FilterHasStat()),(\"summary\",GenerateSummary())])\n"
   ]
  },
  {
   "cell_type": "code",
   "execution_count": 58,
   "metadata": {},
   "outputs": [
    {
     "name": "stdout",
     "output_type": "stream",
     "text": [
      "Current step: Cleaner\n",
      "Current step: ReplyFinder\n",
      "Current step: QuestionClassifier\n",
      "1/1 [==============================] - 0s 227ms/step\n",
      "1/1 [==============================] - 0s 16ms/step\n",
      "Current step: InformationClassifier\n",
      "1/1 [==============================] - 0s 438ms/step\n",
      "Current step: CombineMessageReply\n",
      "Current step: FilterIsGivingInformation\n",
      "NerClassifier\n",
      "hi\n",
      "1/1 [==============================] - 1s 1s/step\n",
      "Current step: GetLocationList\n",
      "Current step: GetStatusList\n",
      "Current step: FilterHasLoc\n",
      "Current step: FilterHasStat\n",
      "Current step: GenerateSummary\n",
      "(5, 4)\n",
      "(5, 4)\n",
      "(5, 4)\n"
     ]
    }
   ],
   "source": [
    "result = pep.fit_transform(df)"
   ]
  },
  {
   "cell_type": "code",
   "execution_count": 59,
   "metadata": {},
   "outputs": [
    {
     "data": {
      "text/plain": [
       "array([{'location': 'المنوفية ', 'status': 'مسكر '},\n",
       "       {'location': 'المنوفية ', 'status': 'مسكر '},\n",
       "       {'location': 'المنوفية ', 'status': 'مسكر '},\n",
       "       {'location': 'المنوفية ', 'status': 'مسكر '},\n",
       "       {'location': 'المنوفية ', 'status': 'مسكر '}], dtype=object)"
      ]
     },
     "execution_count": 59,
     "metadata": {},
     "output_type": "execute_result"
    }
   ],
   "source": [
    "result"
   ]
  },
  {
   "cell_type": "code",
   "execution_count": 60,
   "metadata": {},
   "outputs": [],
   "source": [
    "# convert result to dataframe with two columns: location and status\n",
    "dd = pd.DataFrame(result)"
   ]
  },
  {
   "cell_type": "code",
   "execution_count": 61,
   "metadata": {},
   "outputs": [
    {
     "ename": "ValueError",
     "evalue": "Cannot take a larger sample than population when 'replace=False'",
     "output_type": "error",
     "traceback": [
      "\u001b[1;31m---------------------------------------------------------------------------\u001b[0m",
      "\u001b[1;31mValueError\u001b[0m                                Traceback (most recent call last)",
      "\u001b[1;32m~\\AppData\\Local\\Temp\\ipykernel_9752\\2930682242.py\u001b[0m in \u001b[0;36m<module>\u001b[1;34m\u001b[0m\n\u001b[1;32m----> 1\u001b[1;33m \u001b[0mdd\u001b[0m\u001b[1;33m.\u001b[0m\u001b[0msample\u001b[0m\u001b[1;33m(\u001b[0m\u001b[1;36m10\u001b[0m\u001b[1;33m)\u001b[0m\u001b[1;33m\u001b[0m\u001b[1;33m\u001b[0m\u001b[0m\n\u001b[0m",
      "\u001b[1;32mc:\\Users\\nasser\\.conda\\envs\\finall\\lib\\site-packages\\pandas\\core\\generic.py\u001b[0m in \u001b[0;36msample\u001b[1;34m(self, n, frac, replace, weights, random_state, axis, ignore_index)\u001b[0m\n\u001b[0;32m   5363\u001b[0m             )\n\u001b[0;32m   5364\u001b[0m \u001b[1;33m\u001b[0m\u001b[0m\n\u001b[1;32m-> 5365\u001b[1;33m         \u001b[0mlocs\u001b[0m \u001b[1;33m=\u001b[0m \u001b[0mrs\u001b[0m\u001b[1;33m.\u001b[0m\u001b[0mchoice\u001b[0m\u001b[1;33m(\u001b[0m\u001b[0maxis_length\u001b[0m\u001b[1;33m,\u001b[0m \u001b[0msize\u001b[0m\u001b[1;33m=\u001b[0m\u001b[0mn\u001b[0m\u001b[1;33m,\u001b[0m \u001b[0mreplace\u001b[0m\u001b[1;33m=\u001b[0m\u001b[0mreplace\u001b[0m\u001b[1;33m,\u001b[0m \u001b[0mp\u001b[0m\u001b[1;33m=\u001b[0m\u001b[0mweights\u001b[0m\u001b[1;33m)\u001b[0m\u001b[1;33m\u001b[0m\u001b[1;33m\u001b[0m\u001b[0m\n\u001b[0m\u001b[0;32m   5366\u001b[0m         \u001b[0mresult\u001b[0m \u001b[1;33m=\u001b[0m \u001b[0mself\u001b[0m\u001b[1;33m.\u001b[0m\u001b[0mtake\u001b[0m\u001b[1;33m(\u001b[0m\u001b[0mlocs\u001b[0m\u001b[1;33m,\u001b[0m \u001b[0maxis\u001b[0m\u001b[1;33m=\u001b[0m\u001b[0maxis\u001b[0m\u001b[1;33m)\u001b[0m\u001b[1;33m\u001b[0m\u001b[1;33m\u001b[0m\u001b[0m\n\u001b[0;32m   5367\u001b[0m         \u001b[1;32mif\u001b[0m \u001b[0mignore_index\u001b[0m\u001b[1;33m:\u001b[0m\u001b[1;33m\u001b[0m\u001b[1;33m\u001b[0m\u001b[0m\n",
      "\u001b[1;32mmtrand.pyx\u001b[0m in \u001b[0;36mnumpy.random.mtrand.RandomState.choice\u001b[1;34m()\u001b[0m\n",
      "\u001b[1;31mValueError\u001b[0m: Cannot take a larger sample than population when 'replace=False'"
     ]
    }
   ],
   "source": [
    "dd.sample(10)"
   ]
  },
  {
   "cell_type": "code",
   "execution_count": null,
   "metadata": {},
   "outputs": [],
   "source": [
    "# dd.to_csv('../data/data_for_ner.csv',index=False)"
   ]
  },
  {
   "cell_type": "code",
   "execution_count": null,
   "metadata": {},
   "outputs": [],
   "source": [
    "# # dd = dd[['full_text','locs','Stat','summary']]\n",
    "# # # # get the rows contains more than one location\n",
    "# # # dd = dd[dd['locs'].apply(lambda x: len(x)) > 1]\n",
    "# # pd.set_option('display.max_colwidth', None)\n",
    "# # dd.sample(5)\n",
    "# dd\n"
   ]
  },
  {
   "cell_type": "code",
   "execution_count": null,
   "metadata": {},
   "outputs": [
    {
     "data": {
      "text/html": [
       "<style>#sk-ccec44fb-7b9e-4e2b-a68e-d22715af8d06 {color: black;background-color: white;}#sk-ccec44fb-7b9e-4e2b-a68e-d22715af8d06 pre{padding: 0;}#sk-ccec44fb-7b9e-4e2b-a68e-d22715af8d06 div.sk-toggleable {background-color: white;}#sk-ccec44fb-7b9e-4e2b-a68e-d22715af8d06 label.sk-toggleable__label {cursor: pointer;display: block;width: 100%;margin-bottom: 0;padding: 0.3em;box-sizing: border-box;text-align: center;}#sk-ccec44fb-7b9e-4e2b-a68e-d22715af8d06 label.sk-toggleable__label-arrow:before {content: \"▸\";float: left;margin-right: 0.25em;color: #696969;}#sk-ccec44fb-7b9e-4e2b-a68e-d22715af8d06 label.sk-toggleable__label-arrow:hover:before {color: black;}#sk-ccec44fb-7b9e-4e2b-a68e-d22715af8d06 div.sk-estimator:hover label.sk-toggleable__label-arrow:before {color: black;}#sk-ccec44fb-7b9e-4e2b-a68e-d22715af8d06 div.sk-toggleable__content {max-height: 0;max-width: 0;overflow: hidden;text-align: left;background-color: #f0f8ff;}#sk-ccec44fb-7b9e-4e2b-a68e-d22715af8d06 div.sk-toggleable__content pre {margin: 0.2em;color: black;border-radius: 0.25em;background-color: #f0f8ff;}#sk-ccec44fb-7b9e-4e2b-a68e-d22715af8d06 input.sk-toggleable__control:checked~div.sk-toggleable__content {max-height: 200px;max-width: 100%;overflow: auto;}#sk-ccec44fb-7b9e-4e2b-a68e-d22715af8d06 input.sk-toggleable__control:checked~label.sk-toggleable__label-arrow:before {content: \"▾\";}#sk-ccec44fb-7b9e-4e2b-a68e-d22715af8d06 div.sk-estimator input.sk-toggleable__control:checked~label.sk-toggleable__label {background-color: #d4ebff;}#sk-ccec44fb-7b9e-4e2b-a68e-d22715af8d06 div.sk-label input.sk-toggleable__control:checked~label.sk-toggleable__label {background-color: #d4ebff;}#sk-ccec44fb-7b9e-4e2b-a68e-d22715af8d06 input.sk-hidden--visually {border: 0;clip: rect(1px 1px 1px 1px);clip: rect(1px, 1px, 1px, 1px);height: 1px;margin: -1px;overflow: hidden;padding: 0;position: absolute;width: 1px;}#sk-ccec44fb-7b9e-4e2b-a68e-d22715af8d06 div.sk-estimator {font-family: monospace;background-color: #f0f8ff;border: 1px dotted black;border-radius: 0.25em;box-sizing: border-box;margin-bottom: 0.5em;}#sk-ccec44fb-7b9e-4e2b-a68e-d22715af8d06 div.sk-estimator:hover {background-color: #d4ebff;}#sk-ccec44fb-7b9e-4e2b-a68e-d22715af8d06 div.sk-parallel-item::after {content: \"\";width: 100%;border-bottom: 1px solid gray;flex-grow: 1;}#sk-ccec44fb-7b9e-4e2b-a68e-d22715af8d06 div.sk-label:hover label.sk-toggleable__label {background-color: #d4ebff;}#sk-ccec44fb-7b9e-4e2b-a68e-d22715af8d06 div.sk-serial::before {content: \"\";position: absolute;border-left: 1px solid gray;box-sizing: border-box;top: 2em;bottom: 0;left: 50%;}#sk-ccec44fb-7b9e-4e2b-a68e-d22715af8d06 div.sk-serial {display: flex;flex-direction: column;align-items: center;background-color: white;padding-right: 0.2em;padding-left: 0.2em;}#sk-ccec44fb-7b9e-4e2b-a68e-d22715af8d06 div.sk-item {z-index: 1;}#sk-ccec44fb-7b9e-4e2b-a68e-d22715af8d06 div.sk-parallel {display: flex;align-items: stretch;justify-content: center;background-color: white;}#sk-ccec44fb-7b9e-4e2b-a68e-d22715af8d06 div.sk-parallel::before {content: \"\";position: absolute;border-left: 1px solid gray;box-sizing: border-box;top: 2em;bottom: 0;left: 50%;}#sk-ccec44fb-7b9e-4e2b-a68e-d22715af8d06 div.sk-parallel-item {display: flex;flex-direction: column;position: relative;background-color: white;}#sk-ccec44fb-7b9e-4e2b-a68e-d22715af8d06 div.sk-parallel-item:first-child::after {align-self: flex-end;width: 50%;}#sk-ccec44fb-7b9e-4e2b-a68e-d22715af8d06 div.sk-parallel-item:last-child::after {align-self: flex-start;width: 50%;}#sk-ccec44fb-7b9e-4e2b-a68e-d22715af8d06 div.sk-parallel-item:only-child::after {width: 0;}#sk-ccec44fb-7b9e-4e2b-a68e-d22715af8d06 div.sk-dashed-wrapped {border: 1px dashed gray;margin: 0 0.4em 0.5em 0.4em;box-sizing: border-box;padding-bottom: 0.4em;background-color: white;position: relative;}#sk-ccec44fb-7b9e-4e2b-a68e-d22715af8d06 div.sk-label label {font-family: monospace;font-weight: bold;background-color: white;display: inline-block;line-height: 1.2em;}#sk-ccec44fb-7b9e-4e2b-a68e-d22715af8d06 div.sk-label-container {position: relative;z-index: 2;text-align: center;}#sk-ccec44fb-7b9e-4e2b-a68e-d22715af8d06 div.sk-container {/* jupyter's `normalize.less` sets `[hidden] { display: none; }` but bootstrap.min.css set `[hidden] { display: none !important; }` so we also need the `!important` here to be able to override the default hidden behavior on the sphinx rendered scikit-learn.org. See: https://github.com/scikit-learn/scikit-learn/issues/21755 */display: inline-block !important;position: relative;}#sk-ccec44fb-7b9e-4e2b-a68e-d22715af8d06 div.sk-text-repr-fallback {display: none;}</style><div id=\"sk-ccec44fb-7b9e-4e2b-a68e-d22715af8d06\" class=\"sk-top-container\"><div class=\"sk-text-repr-fallback\"><pre>Pipeline(steps=[(&#x27;cleaner&#x27;, Cleaner()), (&#x27;reply_finder&#x27;, ReplyFinder()),\n",
       "                (&#x27;question_classifier&#x27;, QuestionClassifier()),\n",
       "                (&#x27;information_classifier&#x27;, InformationClassifier()),\n",
       "                (&#x27;combine_message_reply&#x27;, CombineMessageReply()),\n",
       "                (&#x27;filter&#x27;, FilterIsGivingInformation()),\n",
       "                (&#x27;ner_crf_classifier&#x27;, NerClassifier()),\n",
       "                (&#x27;Locations&#x27;, GetLocationList()), (&#x27;Status&#x27;, GetStatusList()),\n",
       "                (&#x27;filter_has_loc&#x27;, FilterHasLoc()),\n",
       "                (&#x27;filter_has_stat&#x27;, FilterHasStat()),\n",
       "                (&#x27;summary&#x27;, GenerateSummary())])</pre><b>Please rerun this cell to show the HTML repr or trust the notebook.</b></div><div class=\"sk-container\" hidden><div class=\"sk-item sk-dashed-wrapped\"><div class=\"sk-label-container\"><div class=\"sk-label sk-toggleable\"><input class=\"sk-toggleable__control sk-hidden--visually\" id=\"d4db3582-0b19-4886-bdc1-2ab9c32e6d2c\" type=\"checkbox\" ><label for=\"d4db3582-0b19-4886-bdc1-2ab9c32e6d2c\" class=\"sk-toggleable__label sk-toggleable__label-arrow\">Pipeline</label><div class=\"sk-toggleable__content\"><pre>Pipeline(steps=[(&#x27;cleaner&#x27;, Cleaner()), (&#x27;reply_finder&#x27;, ReplyFinder()),\n",
       "                (&#x27;question_classifier&#x27;, QuestionClassifier()),\n",
       "                (&#x27;information_classifier&#x27;, InformationClassifier()),\n",
       "                (&#x27;combine_message_reply&#x27;, CombineMessageReply()),\n",
       "                (&#x27;filter&#x27;, FilterIsGivingInformation()),\n",
       "                (&#x27;ner_crf_classifier&#x27;, NerClassifier()),\n",
       "                (&#x27;Locations&#x27;, GetLocationList()), (&#x27;Status&#x27;, GetStatusList()),\n",
       "                (&#x27;filter_has_loc&#x27;, FilterHasLoc()),\n",
       "                (&#x27;filter_has_stat&#x27;, FilterHasStat()),\n",
       "                (&#x27;summary&#x27;, GenerateSummary())])</pre></div></div></div><div class=\"sk-serial\"><div class=\"sk-item\"><div class=\"sk-estimator sk-toggleable\"><input class=\"sk-toggleable__control sk-hidden--visually\" id=\"df15b382-5fa8-49e6-a377-7bf83dfd0420\" type=\"checkbox\" ><label for=\"df15b382-5fa8-49e6-a377-7bf83dfd0420\" class=\"sk-toggleable__label sk-toggleable__label-arrow\">Cleaner</label><div class=\"sk-toggleable__content\"><pre>Cleaner()</pre></div></div></div><div class=\"sk-item\"><div class=\"sk-estimator sk-toggleable\"><input class=\"sk-toggleable__control sk-hidden--visually\" id=\"475973cb-1185-41d2-9315-183579373386\" type=\"checkbox\" ><label for=\"475973cb-1185-41d2-9315-183579373386\" class=\"sk-toggleable__label sk-toggleable__label-arrow\">ReplyFinder</label><div class=\"sk-toggleable__content\"><pre>ReplyFinder()</pre></div></div></div><div class=\"sk-item\"><div class=\"sk-estimator sk-toggleable\"><input class=\"sk-toggleable__control sk-hidden--visually\" id=\"cf2db81b-939c-467e-9e5a-ec401da985ab\" type=\"checkbox\" ><label for=\"cf2db81b-939c-467e-9e5a-ec401da985ab\" class=\"sk-toggleable__label sk-toggleable__label-arrow\">QuestionClassifier</label><div class=\"sk-toggleable__content\"><pre>QuestionClassifier()</pre></div></div></div><div class=\"sk-item\"><div class=\"sk-estimator sk-toggleable\"><input class=\"sk-toggleable__control sk-hidden--visually\" id=\"a712106f-e49e-4023-bced-a9c2b87d3155\" type=\"checkbox\" ><label for=\"a712106f-e49e-4023-bced-a9c2b87d3155\" class=\"sk-toggleable__label sk-toggleable__label-arrow\">InformationClassifier</label><div class=\"sk-toggleable__content\"><pre>InformationClassifier()</pre></div></div></div><div class=\"sk-item\"><div class=\"sk-estimator sk-toggleable\"><input class=\"sk-toggleable__control sk-hidden--visually\" id=\"9501da1c-3350-4997-a7e7-709ff45c3520\" type=\"checkbox\" ><label for=\"9501da1c-3350-4997-a7e7-709ff45c3520\" class=\"sk-toggleable__label sk-toggleable__label-arrow\">CombineMessageReply</label><div class=\"sk-toggleable__content\"><pre>CombineMessageReply()</pre></div></div></div><div class=\"sk-item\"><div class=\"sk-estimator sk-toggleable\"><input class=\"sk-toggleable__control sk-hidden--visually\" id=\"73d0bf32-2f31-4975-94e0-0e4dec0d5b58\" type=\"checkbox\" ><label for=\"73d0bf32-2f31-4975-94e0-0e4dec0d5b58\" class=\"sk-toggleable__label sk-toggleable__label-arrow\">FilterIsGivingInformation</label><div class=\"sk-toggleable__content\"><pre>FilterIsGivingInformation()</pre></div></div></div><div class=\"sk-item\"><div class=\"sk-estimator sk-toggleable\"><input class=\"sk-toggleable__control sk-hidden--visually\" id=\"bc9f269e-a7d4-4a45-a022-f02bc5f16373\" type=\"checkbox\" ><label for=\"bc9f269e-a7d4-4a45-a022-f02bc5f16373\" class=\"sk-toggleable__label sk-toggleable__label-arrow\">NerClassifier</label><div class=\"sk-toggleable__content\"><pre>NerClassifier()</pre></div></div></div><div class=\"sk-item\"><div class=\"sk-estimator sk-toggleable\"><input class=\"sk-toggleable__control sk-hidden--visually\" id=\"ac2fab3c-8898-41ab-b5a5-ce2e6966a8b3\" type=\"checkbox\" ><label for=\"ac2fab3c-8898-41ab-b5a5-ce2e6966a8b3\" class=\"sk-toggleable__label sk-toggleable__label-arrow\">GetLocationList</label><div class=\"sk-toggleable__content\"><pre>GetLocationList()</pre></div></div></div><div class=\"sk-item\"><div class=\"sk-estimator sk-toggleable\"><input class=\"sk-toggleable__control sk-hidden--visually\" id=\"a4e4e931-256a-4518-846d-31e5ab78f9d8\" type=\"checkbox\" ><label for=\"a4e4e931-256a-4518-846d-31e5ab78f9d8\" class=\"sk-toggleable__label sk-toggleable__label-arrow\">GetStatusList</label><div class=\"sk-toggleable__content\"><pre>GetStatusList()</pre></div></div></div><div class=\"sk-item\"><div class=\"sk-estimator sk-toggleable\"><input class=\"sk-toggleable__control sk-hidden--visually\" id=\"20d51bce-512a-4fbb-8d7a-f680a3a38e6e\" type=\"checkbox\" ><label for=\"20d51bce-512a-4fbb-8d7a-f680a3a38e6e\" class=\"sk-toggleable__label sk-toggleable__label-arrow\">FilterHasLoc</label><div class=\"sk-toggleable__content\"><pre>FilterHasLoc()</pre></div></div></div><div class=\"sk-item\"><div class=\"sk-estimator sk-toggleable\"><input class=\"sk-toggleable__control sk-hidden--visually\" id=\"df7f657d-fe31-4a3a-9002-deef134f5fdb\" type=\"checkbox\" ><label for=\"df7f657d-fe31-4a3a-9002-deef134f5fdb\" class=\"sk-toggleable__label sk-toggleable__label-arrow\">FilterHasStat</label><div class=\"sk-toggleable__content\"><pre>FilterHasStat()</pre></div></div></div><div class=\"sk-item\"><div class=\"sk-estimator sk-toggleable\"><input class=\"sk-toggleable__control sk-hidden--visually\" id=\"813cbdad-a589-4b13-8f8d-073890c03093\" type=\"checkbox\" ><label for=\"813cbdad-a589-4b13-8f8d-073890c03093\" class=\"sk-toggleable__label sk-toggleable__label-arrow\">GenerateSummary</label><div class=\"sk-toggleable__content\"><pre>GenerateSummary()</pre></div></div></div></div></div></div></div>"
      ],
      "text/plain": [
       "Pipeline(steps=[('cleaner', Cleaner()), ('reply_finder', ReplyFinder()),\n",
       "                ('question_classifier', QuestionClassifier()),\n",
       "                ('information_classifier', InformationClassifier()),\n",
       "                ('combine_message_reply', CombineMessageReply()),\n",
       "                ('filter', FilterIsGivingInformation()),\n",
       "                ('ner_crf_classifier', NerClassifier()),\n",
       "                ('Locations', GetLocationList()), ('Status', GetStatusList()),\n",
       "                ('filter_has_loc', FilterHasLoc()),\n",
       "                ('filter_has_stat', FilterHasStat()),\n",
       "                ('summary', GenerateSummary())])"
      ]
     },
     "execution_count": 10,
     "metadata": {},
     "output_type": "execute_result"
    }
   ],
   "source": [
    "# visulize the pipeline\n",
    "from sklearn import set_config\n",
    "set_config(display='diagram')\n",
    "pep\n",
    "\n"
   ]
  },
  {
   "cell_type": "code",
   "execution_count": null,
   "metadata": {},
   "outputs": [],
   "source": [
    "# new_df = pd.read_csv('../data/new2.csv')\n",
    "# new = pipeline.fit_transform(new_df)\n"
   ]
  },
  {
   "cell_type": "code",
   "execution_count": null,
   "metadata": {},
   "outputs": [],
   "source": [
    "# pd.set_option('display.max_colwidth', None)\n",
    "# # filter out the rows that LOC is empty and STAT is empty\n",
    "# new = new[(new['LOC'] != \"\") & (new['STAT'] != \"\")]\n",
    "# new[['full_text','LOC','STAT']].sample(10)"
   ]
  },
  {
   "cell_type": "code",
   "execution_count": null,
   "metadata": {},
   "outputs": [],
   "source": [
    "# row = new.iloc[0]\n",
    "# print(row['full_text'])\n",
    "# print(row['ner'])"
   ]
  },
  {
   "cell_type": "code",
   "execution_count": null,
   "metadata": {},
   "outputs": [],
   "source": [
    "# get_LOC(row)"
   ]
  },
  {
   "cell_type": "code",
   "execution_count": null,
   "metadata": {},
   "outputs": [],
   "source": [
    "# # dd = pipeline.fit_transform(df)"
   ]
  },
  {
   "cell_type": "code",
   "execution_count": null,
   "metadata": {},
   "outputs": [],
   "source": [
    "# pd.set_option('display.max_colwidth', None)\n",
    "# dd.sample(10)\n",
    "# # see the distribution of the hajez names\n"
   ]
  },
  {
   "cell_type": "code",
   "execution_count": null,
   "metadata": {},
   "outputs": [],
   "source": [
    "# # in dd get any row that the len of full_text.split() != len of ner.split()\n",
    "# dd[dd['full_text'].apply(lambda x: len(x.split())) == dd['ner'].apply(lambda x: len(x.split()))]"
   ]
  },
  {
   "cell_type": "code",
   "execution_count": null,
   "metadata": {},
   "outputs": [],
   "source": [
    "# # print sample from the dataframe each word with the predicted named entity\n",
    "# random_sample = dd.sample(1)\n",
    "# # print thim in this way  word: named entity\n",
    "# for word, ner in zip(random_sample['full_text'].values[0].split(), random_sample['ner'].values[0].split()):\n",
    "#     print(f\"{word}: {ner}\")\n"
   ]
  },
  {
   "cell_type": "code",
   "execution_count": null,
   "metadata": {},
   "outputs": [],
   "source": []
  },
  {
   "cell_type": "code",
   "execution_count": null,
   "metadata": {},
   "outputs": [],
   "source": [
    "# dd.to_csv('../data/data_for_hajez_classifier.csv',index=False)"
   ]
  }
 ],
 "metadata": {
  "kernelspec": {
   "display_name": "finall",
   "language": "python",
   "name": "python3"
  },
  "language_info": {
   "codemirror_mode": {
    "name": "ipython",
    "version": 3
   },
   "file_extension": ".py",
   "mimetype": "text/x-python",
   "name": "python",
   "nbconvert_exporter": "python",
   "pygments_lexer": "ipython3",
   "version": "3.7.12"
  },
  "orig_nbformat": 4
 },
 "nbformat": 4,
 "nbformat_minor": 2
}

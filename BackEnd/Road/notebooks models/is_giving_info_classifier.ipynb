{
 "cells": [
  {
   "cell_type": "code",
   "execution_count": 1,
   "metadata": {},
   "outputs": [
    {
     "name": "stderr",
     "output_type": "stream",
     "text": [
      "c:\\Users\\nasser\\.conda\\envs\\finall\\lib\\site-packages\\fuzzywuzzy\\fuzz.py:11: UserWarning: Using slow pure-python SequenceMatcher. Install python-Levenshtein to remove this warning\n",
      "  warnings.warn('Using slow pure-python SequenceMatcher. Install python-Levenshtein to remove this warning')\n"
     ]
    }
   ],
   "source": [
    "import sys\n",
    "import os\n",
    "path = os.path.abspath(os.path.join(os.getcwd(), os.pardir))\n",
    "if path not in sys.path:\n",
    "    sys.path.append(path)\n",
    "\n",
    "import joblib\n",
    "import matplotlib.pyplot as plt\n",
    "import numpy as np\n",
    "import pandas as pd\n",
    "import tensorflow as tf\n",
    "from keras.layers import Dense, Dropout, Embedding, LSTM, Flatten\n",
    "from keras.models import Sequential\n",
    "from sklearn.base import BaseEstimator, TransformerMixin\n",
    "from sklearn.feature_extraction.text import TfidfVectorizer\n",
    "from sklearn.model_selection import train_test_split\n",
    "from sklearn.neural_network import MLPClassifier\n",
    "from sklearn.pipeline import Pipeline\n",
    "from sklearn.preprocessing import StandardScaler\n",
    "\n",
    "from utils.helpers import is_it_give_information, is_question_arabic"
   ]
  },
  {
   "cell_type": "code",
   "execution_count": 2,
   "metadata": {},
   "outputs": [],
   "source": [
    "df = pd.read_csv('..\\data\\data_for_information_classifier.csv')"
   ]
  },
  {
   "cell_type": "code",
   "execution_count": 3,
   "metadata": {},
   "outputs": [
    {
     "data": {
      "text/html": [
       "<div>\n",
       "<style scoped>\n",
       "    .dataframe tbody tr th:only-of-type {\n",
       "        vertical-align: middle;\n",
       "    }\n",
       "\n",
       "    .dataframe tbody tr th {\n",
       "        vertical-align: top;\n",
       "    }\n",
       "\n",
       "    .dataframe thead th {\n",
       "        text-align: right;\n",
       "    }\n",
       "</style>\n",
       "<table border=\"1\" class=\"dataframe\">\n",
       "  <thead>\n",
       "    <tr style=\"text-align: right;\">\n",
       "      <th></th>\n",
       "      <th>message</th>\n",
       "      <th>reply_to</th>\n",
       "      <th>message_is_question</th>\n",
       "      <th>reply_is_question</th>\n",
       "    </tr>\n",
       "  </thead>\n",
       "  <tbody>\n",
       "    <tr>\n",
       "      <th>0</th>\n",
       "      <td>الدي سي اوه مشاكل ؟؟</td>\n",
       "      <td>NaN</td>\n",
       "      <td>1</td>\n",
       "      <td>0</td>\n",
       "    </tr>\n",
       "  </tbody>\n",
       "</table>\n",
       "</div>"
      ],
      "text/plain": [
       "                message reply_to  message_is_question  reply_is_question\n",
       "0  الدي سي اوه مشاكل ؟؟      NaN                    1                  0"
      ]
     },
     "execution_count": 3,
     "metadata": {},
     "output_type": "execute_result"
    }
   ],
   "source": [
    "df.head(1)"
   ]
  },
  {
   "cell_type": "code",
   "execution_count": 4,
   "metadata": {},
   "outputs": [],
   "source": [
    "# replace nan with empty string\n",
    "df = df.fillna('')"
   ]
  },
  {
   "cell_type": "code",
   "execution_count": 5,
   "metadata": {},
   "outputs": [
    {
     "data": {
      "text/plain": [
       "(79714, 4)"
      ]
     },
     "execution_count": 5,
     "metadata": {},
     "output_type": "execute_result"
    }
   ],
   "source": [
    "df.shape"
   ]
  },
  {
   "cell_type": "code",
   "execution_count": 6,
   "metadata": {},
   "outputs": [],
   "source": [
    "# remove null values\n",
    "df = df.dropna()"
   ]
  },
  {
   "cell_type": "code",
   "execution_count": 7,
   "metadata": {},
   "outputs": [
    {
     "data": {
      "text/plain": [
       "(79714, 4)"
      ]
     },
     "execution_count": 7,
     "metadata": {},
     "output_type": "execute_result"
    }
   ],
   "source": [
    "df.shape"
   ]
  },
  {
   "cell_type": "code",
   "execution_count": 8,
   "metadata": {},
   "outputs": [
    {
     "data": {
      "text/html": [
       "<div>\n",
       "<style scoped>\n",
       "    .dataframe tbody tr th:only-of-type {\n",
       "        vertical-align: middle;\n",
       "    }\n",
       "\n",
       "    .dataframe tbody tr th {\n",
       "        vertical-align: top;\n",
       "    }\n",
       "\n",
       "    .dataframe thead th {\n",
       "        text-align: right;\n",
       "    }\n",
       "</style>\n",
       "<table border=\"1\" class=\"dataframe\">\n",
       "  <thead>\n",
       "    <tr style=\"text-align: right;\">\n",
       "      <th></th>\n",
       "      <th>message</th>\n",
       "      <th>reply_to</th>\n",
       "      <th>message_is_question</th>\n",
       "      <th>reply_is_question</th>\n",
       "    </tr>\n",
       "  </thead>\n",
       "  <tbody>\n",
       "    <tr>\n",
       "      <th>16756</th>\n",
       "      <td>المواصلات شغاله عادي</td>\n",
       "      <td>مسا الخير بلاقي حد مروح بكره  العصر</td>\n",
       "      <td>0</td>\n",
       "      <td>0</td>\n",
       "    </tr>\n",
       "  </tbody>\n",
       "</table>\n",
       "</div>"
      ],
      "text/plain": [
       "                    message                             reply_to  \\\n",
       "16756  المواصلات شغاله عادي  مسا الخير بلاقي حد مروح بكره  العصر   \n",
       "\n",
       "       message_is_question  reply_is_question  \n",
       "16756                    0                  0  "
      ]
     },
     "execution_count": 8,
     "metadata": {},
     "output_type": "execute_result"
    }
   ],
   "source": [
    "df.sample(10).head(1)"
   ]
  },
  {
   "attachments": {},
   "cell_type": "markdown",
   "metadata": {},
   "source": [
    "# Label data using Regex\n"
   ]
  },
  {
   "cell_type": "code",
   "execution_count": 9,
   "metadata": {},
   "outputs": [],
   "source": [
    "def is_giving_info(row):\n",
    "    if row['reply_to'] == '':\n",
    "        if row['message_is_question'] == 1:\n",
    "            return 0\n",
    "        else:\n",
    "            if is_it_give_information(row['message']):\n",
    "                return 1\n",
    "            return 0\n",
    "    if row['reply_is_question'] == 1:\n",
    "        if row['message_is_question'] == 1:\n",
    "            return 0\n",
    "        else:\n",
    "            if is_it_give_information(row['message']):\n",
    "                return 1\n",
    "            return 0\n",
    "    else:\n",
    "        if row['message_is_question'] == 1:\n",
    "            return 0\n",
    "        else:\n",
    "            if is_it_give_information(row['message']):\n",
    "                return 1\n",
    "            return 0\n",
    "            \n",
    "    pass"
   ]
  },
  {
   "cell_type": "code",
   "execution_count": 10,
   "metadata": {},
   "outputs": [],
   "source": [
    "df['is_giving_info'] = df.apply(lambda x : 1 if is_giving_info(x) else 0,axis=1)"
   ]
  },
  {
   "cell_type": "code",
   "execution_count": 11,
   "metadata": {},
   "outputs": [
    {
     "data": {
      "text/html": [
       "<div>\n",
       "<style scoped>\n",
       "    .dataframe tbody tr th:only-of-type {\n",
       "        vertical-align: middle;\n",
       "    }\n",
       "\n",
       "    .dataframe tbody tr th {\n",
       "        vertical-align: top;\n",
       "    }\n",
       "\n",
       "    .dataframe thead th {\n",
       "        text-align: right;\n",
       "    }\n",
       "</style>\n",
       "<table border=\"1\" class=\"dataframe\">\n",
       "  <thead>\n",
       "    <tr style=\"text-align: right;\">\n",
       "      <th></th>\n",
       "      <th>message</th>\n",
       "      <th>reply_to</th>\n",
       "      <th>message_is_question</th>\n",
       "      <th>reply_is_question</th>\n",
       "      <th>is_giving_info</th>\n",
       "    </tr>\n",
       "  </thead>\n",
       "  <tbody>\n",
       "    <tr>\n",
       "      <th>0</th>\n",
       "      <td>الدي سي اوه مشاكل ؟؟</td>\n",
       "      <td></td>\n",
       "      <td>1</td>\n",
       "      <td>0</td>\n",
       "      <td>0</td>\n",
       "    </tr>\n",
       "    <tr>\n",
       "      <th>1</th>\n",
       "      <td>شباب طريق جنين قلقيلة شو وضعها</td>\n",
       "      <td></td>\n",
       "      <td>1</td>\n",
       "      <td>0</td>\n",
       "      <td>0</td>\n",
       "    </tr>\n",
       "    <tr>\n",
       "      <th>2</th>\n",
       "      <td>حومش شافي شمرون شو وضعهم</td>\n",
       "      <td></td>\n",
       "      <td>1</td>\n",
       "      <td>0</td>\n",
       "      <td>0</td>\n",
       "    </tr>\n",
       "    <tr>\n",
       "      <th>3</th>\n",
       "      <td>صرة للداخل نابلس؟</td>\n",
       "      <td></td>\n",
       "      <td>1</td>\n",
       "      <td>0</td>\n",
       "      <td>0</td>\n",
       "    </tr>\n",
       "    <tr>\n",
       "      <th>4</th>\n",
       "      <td>رام الله لنابلس</td>\n",
       "      <td></td>\n",
       "      <td>0</td>\n",
       "      <td>0</td>\n",
       "      <td>0</td>\n",
       "    </tr>\n",
       "    <tr>\n",
       "      <th>...</th>\n",
       "      <td>...</td>\n",
       "      <td>...</td>\n",
       "      <td>...</td>\n",
       "      <td>...</td>\n",
       "      <td>...</td>\n",
       "    </tr>\n",
       "    <tr>\n",
       "      <th>79709</th>\n",
       "      <td>ماشي</td>\n",
       "      <td>حاجز حوارة حالياً</td>\n",
       "      <td>0</td>\n",
       "      <td>0</td>\n",
       "      <td>1</td>\n",
       "    </tr>\n",
       "    <tr>\n",
       "      <th>79710</th>\n",
       "      <td>سالك</td>\n",
       "      <td>حوارة للخارج</td>\n",
       "      <td>0</td>\n",
       "      <td>0</td>\n",
       "      <td>1</td>\n",
       "    </tr>\n",
       "    <tr>\n",
       "      <th>79711</th>\n",
       "      <td>نابلس للفندق الوضع</td>\n",
       "      <td></td>\n",
       "      <td>1</td>\n",
       "      <td>0</td>\n",
       "      <td>0</td>\n",
       "    </tr>\n",
       "    <tr>\n",
       "      <th>79712</th>\n",
       "      <td>دير شرف للخارج ؟</td>\n",
       "      <td></td>\n",
       "      <td>1</td>\n",
       "      <td>0</td>\n",
       "      <td>0</td>\n",
       "    </tr>\n",
       "    <tr>\n",
       "      <th>79713</th>\n",
       "      <td>شي دوار بيتا شباب</td>\n",
       "      <td></td>\n",
       "      <td>0</td>\n",
       "      <td>0</td>\n",
       "      <td>0</td>\n",
       "    </tr>\n",
       "  </tbody>\n",
       "</table>\n",
       "<p>79714 rows × 5 columns</p>\n",
       "</div>"
      ],
      "text/plain": [
       "                              message           reply_to  message_is_question  \\\n",
       "0                الدي سي اوه مشاكل ؟؟                                       1   \n",
       "1      شباب طريق جنين قلقيلة شو وضعها                                       1   \n",
       "2            حومش شافي شمرون شو وضعهم                                       1   \n",
       "3                   صرة للداخل نابلس؟                                       1   \n",
       "4                     رام الله لنابلس                                       0   \n",
       "...                               ...                ...                  ...   \n",
       "79709                            ماشي  حاجز حوارة حالياً                    0   \n",
       "79710                            سالك       حوارة للخارج                    0   \n",
       "79711              نابلس للفندق الوضع                                       1   \n",
       "79712                دير شرف للخارج ؟                                       1   \n",
       "79713               شي دوار بيتا شباب                                       0   \n",
       "\n",
       "       reply_is_question  is_giving_info  \n",
       "0                      0               0  \n",
       "1                      0               0  \n",
       "2                      0               0  \n",
       "3                      0               0  \n",
       "4                      0               0  \n",
       "...                  ...             ...  \n",
       "79709                  0               1  \n",
       "79710                  0               1  \n",
       "79711                  0               0  \n",
       "79712                  0               0  \n",
       "79713                  0               0  \n",
       "\n",
       "[79714 rows x 5 columns]"
      ]
     },
     "execution_count": 11,
     "metadata": {},
     "output_type": "execute_result"
    }
   ],
   "source": [
    "df"
   ]
  },
  {
   "cell_type": "code",
   "execution_count": 143,
   "metadata": {},
   "outputs": [],
   "source": [
    "import pandas as pd\n",
    "import numpy as np\n",
    "import tensorflow as tf\n",
    "from tensorflow.keras.layers import Input, Embedding, LSTM, Dense, Concatenate\n",
    "from tensorflow.keras.models import Model"
   ]
  },
  {
   "cell_type": "code",
   "execution_count": 144,
   "metadata": {},
   "outputs": [],
   "source": [
    "# Set the maximum number of words to be used in the tokenizer\n",
    "MAX_NUM_WORDS = 10000\n",
    "\n",
    "# Set the maximum length of the tokenized sequences\n",
    "MAX_SEQUENCE_LENGTH = 20"
   ]
  },
  {
   "cell_type": "code",
   "execution_count": 145,
   "metadata": {},
   "outputs": [],
   "source": [
    "# Split the data into training and testing sets\n",
    "train_data = df.sample(frac=0.8, random_state=42)\n",
    "test_data = df.drop(train_data.index)"
   ]
  },
  {
   "cell_type": "code",
   "execution_count": 146,
   "metadata": {},
   "outputs": [],
   "source": [
    "# Define the tokenization function\n",
    "tokenizer = tf.keras.preprocessing.text.Tokenizer(num_words=MAX_NUM_WORDS, oov_token=\"<OOV>\")\n",
    "tokenizer.fit_on_texts(train_data[\"message\"])"
   ]
  },
  {
   "cell_type": "code",
   "execution_count": 147,
   "metadata": {},
   "outputs": [],
   "source": [
    "# Convert the text data to sequences of integers\n",
    "train_sequences = tokenizer.texts_to_sequences(train_data[\"message\"])\n",
    "test_sequences = tokenizer.texts_to_sequences(test_data[\"message\"])"
   ]
  },
  {
   "cell_type": "code",
   "execution_count": 148,
   "metadata": {},
   "outputs": [],
   "source": [
    "# Pad the sequences to ensure they are all the same length\n",
    "train_sequences_padded = tf.keras.preprocessing.sequence.pad_sequences(train_sequences, maxlen=MAX_SEQUENCE_LENGTH, padding=\"post\", truncating=\"post\")\n",
    "test_sequences_padded = tf.keras.preprocessing.sequence.pad_sequences(test_sequences, maxlen=MAX_SEQUENCE_LENGTH, padding=\"post\", truncating=\"post\")"
   ]
  },
  {
   "cell_type": "code",
   "execution_count": 149,
   "metadata": {},
   "outputs": [],
   "source": [
    "# Define the inputs for the model\n",
    "message_input = Input(shape=(MAX_SEQUENCE_LENGTH,), name=\"message_input\")\n",
    "reply_to_input = Input(shape=(MAX_SEQUENCE_LENGTH,), name=\"reply_to_input\")\n",
    "question_input = Input(shape=(2,), name=\"question_input\")"
   ]
  },
  {
   "cell_type": "code",
   "execution_count": 150,
   "metadata": {},
   "outputs": [],
   "source": [
    "# Define the embedding layer\n",
    "embedding_layer = Embedding(MAX_NUM_WORDS, 128, input_length=MAX_SEQUENCE_LENGTH, trainable=True)\n"
   ]
  },
  {
   "cell_type": "code",
   "execution_count": 151,
   "metadata": {},
   "outputs": [],
   "source": [
    "# Embed the message and reply_to inputs\n",
    "embedded_message = embedding_layer(message_input)\n",
    "embedded_reply_to = embedding_layer(reply_to_input)"
   ]
  },
  {
   "cell_type": "code",
   "execution_count": 152,
   "metadata": {},
   "outputs": [],
   "source": [
    "# Concatenate the embedded message and reply_to inputs\n",
    "concatenated_inputs = Concatenate(axis=1)([embedded_message, embedded_reply_to])\n"
   ]
  },
  {
   "cell_type": "code",
   "execution_count": 153,
   "metadata": {},
   "outputs": [],
   "source": [
    "from tensorflow.keras.layers import Bidirectional\n"
   ]
  },
  {
   "cell_type": "code",
   "execution_count": 154,
   "metadata": {},
   "outputs": [],
   "source": [
    "# Pass the concatenated inputs through an LSTM layer\n",
    "lstm_layer = Bidirectional(LSTM(256, return_sequences=True))\n",
    "lstm_output = lstm_layer(concatenated_inputs)"
   ]
  },
  {
   "cell_type": "code",
   "execution_count": 155,
   "metadata": {},
   "outputs": [],
   "source": [
    "# Add a second LSTM layer\n",
    "lstm_layer2 = LSTM(512)\n",
    "lstm_output2 = lstm_layer2(lstm_output)"
   ]
  },
  {
   "cell_type": "code",
   "execution_count": 156,
   "metadata": {},
   "outputs": [],
   "source": [
    "# Concatenate the LSTM output with the question input\n",
    "concatenated_outputs = Concatenate()([lstm_output2, question_input])"
   ]
  },
  {
   "cell_type": "code",
   "execution_count": 157,
   "metadata": {},
   "outputs": [],
   "source": [
    "# Add a dense layer with 128 units\n",
    "dense_layer = Dense(512, activation=\"relu\")(concatenated_outputs)"
   ]
  },
  {
   "cell_type": "code",
   "execution_count": 158,
   "metadata": {},
   "outputs": [],
   "source": [
    "# Add dropout regularization\n",
    "dropout_layer = Dropout(0.4)(dense_layer)"
   ]
  },
  {
   "cell_type": "code",
   "execution_count": 159,
   "metadata": {},
   "outputs": [],
   "source": [
    "# Define the output layer\n",
    "output_layer = Dense(1, activation=\"sigmoid\")(dropout_layer)"
   ]
  },
  {
   "cell_type": "code",
   "execution_count": 160,
   "metadata": {},
   "outputs": [],
   "source": [
    "# Create the model\n",
    "model = Model(inputs=[message_input, reply_to_input, question_input], outputs=output_layer)\n"
   ]
  },
  {
   "cell_type": "code",
   "execution_count": 161,
   "metadata": {},
   "outputs": [],
   "source": [
    "# import Adam optimizer\n",
    "from tensorflow.keras.optimizers import Adam"
   ]
  },
  {
   "cell_type": "code",
   "execution_count": 162,
   "metadata": {},
   "outputs": [],
   "source": [
    "# Compile the model with custom metrics and class weights\n",
    "adam = Adam()\n",
    "model.compile(optimizer=adam, loss=\"binary_crossentropy\", metrics=[\"accuracy\"])\n"
   ]
  },
  {
   "cell_type": "code",
   "execution_count": 163,
   "metadata": {},
   "outputs": [],
   "source": [
    "# import class weights\n",
    "from sklearn.utils import class_weight"
   ]
  },
  {
   "cell_type": "code",
   "execution_count": 164,
   "metadata": {},
   "outputs": [],
   "source": [
    "# Define early stopping to prevent overfitting\n",
    "early_stopping = tf.keras.callbacks.EarlyStopping(patience=3, monitor='val_loss')\n"
   ]
  },
  {
   "cell_type": "code",
   "execution_count": 165,
   "metadata": {},
   "outputs": [
    {
     "name": "stdout",
     "output_type": "stream",
     "text": [
      "Epoch 1/20\n",
      "13/13 [==============================] - 13s 733ms/step - loss: 0.6250 - accuracy: 0.6140 - val_loss: 0.5873 - val_accuracy: 0.5955\n",
      "Epoch 2/20\n",
      "13/13 [==============================] - 9s 718ms/step - loss: 0.5693 - accuracy: 0.6495 - val_loss: 0.5034 - val_accuracy: 0.7824\n",
      "Epoch 3/20\n",
      "13/13 [==============================] - 9s 677ms/step - loss: 0.4247 - accuracy: 0.8217 - val_loss: 0.2452 - val_accuracy: 0.9023\n",
      "Epoch 4/20\n",
      "13/13 [==============================] - 10s 743ms/step - loss: 0.1812 - accuracy: 0.9343 - val_loss: 0.1496 - val_accuracy: 0.9425\n",
      "Epoch 5/20\n",
      "13/13 [==============================] - 8s 635ms/step - loss: 0.0972 - accuracy: 0.9658 - val_loss: 0.1332 - val_accuracy: 0.9567\n",
      "Epoch 6/20\n",
      "13/13 [==============================] - 11s 859ms/step - loss: 0.0629 - accuracy: 0.9793 - val_loss: 0.1293 - val_accuracy: 0.9563\n",
      "Epoch 7/20\n",
      "13/13 [==============================] - 26s 2s/step - loss: 0.0466 - accuracy: 0.9853 - val_loss: 0.1333 - val_accuracy: 0.9559\n",
      "Epoch 8/20\n",
      "13/13 [==============================] - 12s 873ms/step - loss: 0.0427 - accuracy: 0.9873 - val_loss: 0.1495 - val_accuracy: 0.9490\n",
      "Epoch 9/20\n",
      "13/13 [==============================] - 17s 1s/step - loss: 0.0430 - accuracy: 0.9868 - val_loss: 0.1396 - val_accuracy: 0.9571\n"
     ]
    }
   ],
   "source": [
    "# Fit the model to the training data\n",
    "history = model.fit(\n",
    "    {\n",
    "        \"message_input\": train_sequences_padded,\n",
    "        \"reply_to_input\": train_sequences_padded,\n",
    "        \"question_input\": np.array(train_data[[\"message_is_question\", \"reply_is_question\"]])\n",
    "    },\n",
    "    np.array(train_data[\"is_giving_info\"]),\n",
    "    epochs=20,\n",
    "    batch_size=4096,\n",
    "    validation_split=0.2,\n",
    "    callbacks=[early_stopping]\n",
    ")"
   ]
  },
  {
   "cell_type": "code",
   "execution_count": 170,
   "metadata": {},
   "outputs": [],
   "source": [
    "# restor the model from history variable\n",
    "model = history.model\n",
    "\n",
    "    "
   ]
  },
  {
   "cell_type": "code",
   "execution_count": 171,
   "metadata": {},
   "outputs": [
    {
     "data": {
      "image/png": "[encoded data removed]",
      "text/plain": [
       "<Figure size 640x480 with 1 Axes>"
      ]
     },
     "metadata": {},
     "output_type": "display_data"
    },
    {
     "data": {
      "image/png": "[encoded data removed]",
      "text/plain": [
       "<Figure size 640x480 with 1 Axes>"
      ]
     },
     "metadata": {},
     "output_type": "display_data"
    }
   ],
   "source": [
    "import matplotlib.pyplot as plt\n",
    "\n",
    "# Plot the training and validation accuracy\n",
    "plt.plot(history.history['accuracy'])\n",
    "plt.plot(history.history['val_accuracy'])\n",
    "plt.title('Model Accuracy')\n",
    "plt.ylabel('Accuracy')\n",
    "plt.xlabel('Epoch')\n",
    "plt.legend(['Train', 'Validation'], loc='upper left')\n",
    "plt.show()\n",
    "\n",
    "# Plot the training and validation loss\n",
    "plt.plot(history.history['loss'])\n",
    "plt.plot(history.history['val_loss'])\n",
    "plt.title('Model Loss')\n",
    "plt.ylabel('Loss')\n",
    "plt.xlabel('Epoch')\n",
    "plt.legend(['Train', 'Validation'], loc='upper left')\n",
    "plt.show()\n",
    "\n"
   ]
  },
  {
   "cell_type": "code",
   "execution_count": 181,
   "metadata": {},
   "outputs": [
    {
     "name": "stdout",
     "output_type": "stream",
     "text": [
      "499/499 [==============================] - 9s 17ms/step\n",
      "              precision    recall  f1-score   support\n",
      "\n",
      "           0       0.66      0.99      0.79      9276\n",
      "           1       0.96      0.30      0.45      6667\n",
      "\n",
      "    accuracy                           0.70     15943\n",
      "   macro avg       0.81      0.64      0.62     15943\n",
      "weighted avg       0.79      0.70      0.65     15943\n",
      "\n"
     ]
    }
   ],
   "source": [
    "from sklearn.metrics import classification_report\n",
    "\n",
    "# Preprocess test data using the tokenizer\n",
    "test_sequences_padded = tokenizer.texts_to_sequences(test_data[\"message\"])\n",
    "test_sequences_padded = tf.keras.preprocessing.sequence.pad_sequences(test_sequences_padded, maxlen=MAX_SEQUENCE_LENGTH)\n",
    "\n",
    "# Make predictions on the test data\n",
    "y_pred_prob = model.predict(\n",
    "    {\n",
    "        \"message_input\": test_sequences_padded,\n",
    "        \"reply_to_input\": test_sequences_padded,\n",
    "        \"question_input\": np.array(test_data[[\"message_is_question\", \"reply_is_question\"]])\n",
    "    }\n",
    ")\n",
    "\n",
    "# Set a threshold for classification\n",
    "threshold = 0.5  # You can adjust this threshold as needed\n",
    "\n",
    "# Convert probability values to binary predictions based on the threshold\n",
    "y_pred_labels = (y_pred_prob > threshold).astype(int)\n",
    "\n",
    "# Generate the classification report\n",
    "class_report = classification_report(test_data[\"is_giving_info\"], y_pred_labels)\n",
    "\n",
    "print(class_report)\n"
   ]
  },
  {
   "cell_type": "code",
   "execution_count": 184,
   "metadata": {},
   "outputs": [
    {
     "name": "stdout",
     "output_type": "stream",
     "text": [
      "1/1 [==============================] - 0s 22ms/step\n"
     ]
    },
    {
     "data": {
      "text/plain": [
       "array([[0.00073045]], dtype=float32)"
      ]
     },
     "execution_count": 184,
     "metadata": {},
     "output_type": "execute_result"
    }
   ],
   "source": [
    "# test the model on the test data\n",
    "new_df = pd.DataFrame({\n",
    "    \"message\": [\"كبف حوارة؟\"],\n",
    "    \"reply_to\": [\"سالكة\"],\n",
    "    \"message_is_question\": [1],\n",
    "    \"reply_is_question\": [1]\n",
    "})\n",
    "# Convert the text data to sequences of integers\n",
    "new_sequences = tokenizer.texts_to_sequences(new_df[\"message\"])\n",
    "new_sequences_padded = tf.keras.preprocessing.sequence.pad_sequences(new_sequences, maxlen=MAX_SEQUENCE_LENGTH, padding=\"post\", truncating=\"post\")\n",
    "# do the same for the reply_to column\n",
    "new_sequences2 = tokenizer.texts_to_sequences(new_df[\"reply_to\"])\n",
    "new_sequences_padded2 = tf.keras.preprocessing.sequence.pad_sequences(new_sequences2, maxlen=MAX_SEQUENCE_LENGTH, padding=\"post\", truncating=\"post\")\n",
    "# predict the output\n",
    "model.predict([new_sequences_padded, new_sequences_padded2, np.array(new_df[[\"message_is_question\", \"reply_is_question\"]])])"
   ]
  },
  {
   "cell_type": "code",
   "execution_count": 45,
   "metadata": {},
   "outputs": [
    {
     "data": {
      "text/plain": [
       "['..\\\\models\\\\information_tokenizer.joblib']"
      ]
     },
     "execution_count": 45,
     "metadata": {},
     "output_type": "execute_result"
    }
   ],
   "source": [
    "# # save the model and tokenizer\n",
    "# model.save(\"../models/information_classifier.h5\")\n",
    "# # save the tokenizer\n",
    "# import joblib\n",
    "# joblib.dump(tokenizer, \"..\\models\\information_tokenizer.joblib\")\n"
   ]
  }
 ],
 "metadata": {
  "kernelspec": {
   "display_name": "finall",
   "language": "python",
   "name": "python3"
  },
  "language_info": {
   "codemirror_mode": {
    "name": "ipython",
    "version": 3
   },
   "file_extension": ".py",
   "mimetype": "text/x-python",
   "name": "python",
   "nbconvert_exporter": "python",
   "pygments_lexer": "ipython3",
   "version": "3.7.12"
  },
  "orig_nbformat": 4
 },
 "nbformat": 4,
 "nbformat_minor": 2
}

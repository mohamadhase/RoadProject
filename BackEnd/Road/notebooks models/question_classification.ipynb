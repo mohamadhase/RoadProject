{
 "cells": [
  {
   "cell_type": "code",
   "execution_count": 1,
   "metadata": {},
   "outputs": [
    {
     "name": "stderr",
     "output_type": "stream",
     "text": [
      "c:\\Users\\nasser\\.conda\\envs\\finall\\lib\\site-packages\\fuzzywuzzy\\fuzz.py:11: UserWarning: Using slow pure-python SequenceMatcher. Install python-Levenshtein to remove this warning\n",
      "  warnings.warn('Using slow pure-python SequenceMatcher. Install python-Levenshtein to remove this warning')\n"
     ]
    }
   ],
   "source": [
    "from sklearn.base import BaseEstimator, TransformerMixin\n",
    "import sys\n",
    "import os\n",
    "path = os.path.abspath(os.path.join(os.getcwd(), os.pardir))\n",
    "if path not in sys.path:\n",
    "    sys.path.append(path)\n",
    "import pandas as pd\n",
    "from utils.helpers import is_question_arabic\n",
    "import tensorflow as tf\n",
    "import numpy as np\n",
    "import pandas as pd\n",
    "import tensorflow as tf\n",
    "import matplotlib.pyplot as plt\n",
    "import pandas as pd\n",
    "from sklearn.pipeline import Pipeline\n",
    "from sklearn.feature_extraction.text import TfidfVectorizer\n",
    "from sklearn.model_selection import train_test_split\n",
    "from keras.models import Sequential\n",
    "from keras.layers import Embedding, LSTM, Dense\n",
    "from sklearn.pipeline import Pipeline\n",
    "from sklearn.feature_extraction.text import TfidfVectorizer\n",
    "from sklearn.model_selection import train_test_split\n",
    "from tensorflow.keras.models import Sequential\n",
    "from tensorflow.keras.layers import Dense, LSTM\n",
    "from tensorflow.keras.callbacks import EarlyStopping\n",
    "from sklearn.feature_extraction.text import TfidfVectorizer\n",
    "from sklearn.preprocessing import StandardScaler\n",
    "from sklearn.neural_network import MLPClassifier\n",
    "import joblib"
   ]
  },
  {
   "cell_type": "code",
   "execution_count": 2,
   "metadata": {},
   "outputs": [],
   "source": [
    "df = pd.read_csv('../data/raw.csv')"
   ]
  },
  {
   "cell_type": "code",
   "execution_count": 3,
   "metadata": {},
   "outputs": [],
   "source": [
    "df = df[['message']]"
   ]
  },
  {
   "cell_type": "code",
   "execution_count": 4,
   "metadata": {},
   "outputs": [],
   "source": [
    "# remove null values\n",
    "df = df.dropna()"
   ]
  },
  {
   "attachments": {},
   "cell_type": "markdown",
   "metadata": {},
   "source": [
    "# Label data using Regex"
   ]
  },
  {
   "cell_type": "code",
   "execution_count": 5,
   "metadata": {},
   "outputs": [],
   "source": [
    "df['is_question'] = df['message'].apply(lambda x : 1 if is_question_arabic(x) else 0)"
   ]
  },
  {
   "attachments": {},
   "cell_type": "markdown",
   "metadata": {},
   "source": [
    "# Train NN model"
   ]
  },
  {
   "cell_type": "code",
   "execution_count": 6,
   "metadata": {},
   "outputs": [],
   "source": [
    "messages = df['message'].values\n",
    "labels = df['is_question'].values\n",
    "vocab_size = 10000 # Choose a vocabulary size\n",
    "tokenizer = tf.keras.preprocessing.text.Tokenizer(num_words=vocab_size)\n",
    "tokenizer.fit_on_texts(messages)\n",
    "sequences = tokenizer.texts_to_sequences(messages)\n",
    "X = tf.keras.preprocessing.sequence.pad_sequences(sequences, maxlen=100)\n",
    "y = tf.keras.utils.to_categorical(labels)\n",
    "X_train, X_test, y_train, y_test = train_test_split(X, y, test_size=0.2, random_state=42)"
   ]
  },
  {
   "cell_type": "code",
   "execution_count": 44,
   "metadata": {},
   "outputs": [],
   "source": [
    "# Define RNN model\n",
    "model = tf.keras.Sequential([\n",
    "    tf.keras.layers.Embedding(vocab_size, 32),\n",
    "    tf.keras.layers.LSTM(128),\n",
    "    tf.keras.layers.Dense(128, activation='relu'),\n",
    "    tf.keras.layers.Dropout(0.5),\n",
    "    tf.keras.layers.Dense(2, activation='softmax')\n",
    "])"
   ]
  },
  {
   "cell_type": "code",
   "execution_count": 45,
   "metadata": {},
   "outputs": [],
   "source": [
    "# Compile model\n",
    "model.compile(loss='categorical_crossentropy', optimizer='adam', metrics=['accuracy'])\n"
   ]
  },
  {
   "cell_type": "code",
   "execution_count": 46,
   "metadata": {},
   "outputs": [
    {
     "name": "stdout",
     "output_type": "stream",
     "text": [
      "Epoch 1/20\n",
      "31/31 [==============================] - 3s 55ms/step - loss: 0.6227 - accuracy: 0.6449 - val_loss: 0.4528 - val_accuracy: 0.8022\n",
      "Epoch 2/20\n",
      "31/31 [==============================] - 1s 43ms/step - loss: 0.2738 - accuracy: 0.8953 - val_loss: 0.1515 - val_accuracy: 0.9507\n",
      "Epoch 3/20\n",
      "31/31 [==============================] - 1s 43ms/step - loss: 0.1747 - accuracy: 0.9477 - val_loss: 0.1347 - val_accuracy: 0.9555\n",
      "Epoch 4/20\n",
      "31/31 [==============================] - 1s 43ms/step - loss: 0.0906 - accuracy: 0.9729 - val_loss: 0.1099 - val_accuracy: 0.9658\n",
      "Epoch 5/20\n",
      "31/31 [==============================] - 1s 43ms/step - loss: 0.0669 - accuracy: 0.9815 - val_loss: 0.1088 - val_accuracy: 0.9653\n",
      "Epoch 6/20\n",
      "31/31 [==============================] - 1s 43ms/step - loss: 0.0569 - accuracy: 0.9849 - val_loss: 0.1139 - val_accuracy: 0.9644\n",
      "Epoch 7/20\n",
      "31/31 [==============================] - 1s 42ms/step - loss: 0.0522 - accuracy: 0.9860 - val_loss: 0.1071 - val_accuracy: 0.9696\n",
      "Epoch 8/20\n",
      "31/31 [==============================] - 1s 43ms/step - loss: 0.0502 - accuracy: 0.9866 - val_loss: 0.1160 - val_accuracy: 0.9644\n",
      "Epoch 9/20\n",
      "31/31 [==============================] - 1s 43ms/step - loss: 0.0489 - accuracy: 0.9870 - val_loss: 0.1114 - val_accuracy: 0.9704\n",
      "Epoch 10/20\n",
      "31/31 [==============================] - 1s 42ms/step - loss: 0.0460 - accuracy: 0.9873 - val_loss: 0.1145 - val_accuracy: 0.9694\n",
      "Epoch 11/20\n",
      "31/31 [==============================] - 1s 43ms/step - loss: 0.0480 - accuracy: 0.9872 - val_loss: 0.1153 - val_accuracy: 0.9697\n",
      "Epoch 12/20\n",
      "31/31 [==============================] - 1s 43ms/step - loss: 0.0455 - accuracy: 0.9876 - val_loss: 0.1161 - val_accuracy: 0.9693\n",
      "Epoch 13/20\n",
      "31/31 [==============================] - 1s 43ms/step - loss: 0.0437 - accuracy: 0.9883 - val_loss: 0.1196 - val_accuracy: 0.9695\n",
      "Epoch 14/20\n",
      "31/31 [==============================] - 1s 42ms/step - loss: 0.0434 - accuracy: 0.9880 - val_loss: 0.1234 - val_accuracy: 0.9662\n",
      "Epoch 15/20\n",
      "31/31 [==============================] - 1s 43ms/step - loss: 0.0440 - accuracy: 0.9882 - val_loss: 0.1198 - val_accuracy: 0.9689\n",
      "Epoch 16/20\n",
      "31/31 [==============================] - 1s 42ms/step - loss: 0.0417 - accuracy: 0.9889 - val_loss: 0.1237 - val_accuracy: 0.9705\n",
      "Epoch 17/20\n",
      "31/31 [==============================] - 1s 42ms/step - loss: 0.0421 - accuracy: 0.9884 - val_loss: 0.1211 - val_accuracy: 0.9687\n",
      "Epoch 18/20\n",
      "31/31 [==============================] - 1s 43ms/step - loss: 0.0411 - accuracy: 0.9888 - val_loss: 0.1235 - val_accuracy: 0.9683\n",
      "Epoch 19/20\n",
      "31/31 [==============================] - 1s 43ms/step - loss: 0.0405 - accuracy: 0.9890 - val_loss: 0.1285 - val_accuracy: 0.9657\n",
      "Epoch 20/20\n",
      "31/31 [==============================] - 1s 42ms/step - loss: 0.0401 - accuracy: 0.9891 - val_loss: 0.1275 - val_accuracy: 0.9667\n"
     ]
    }
   ],
   "source": [
    "# Train model and prevent overfitting with early stopping\n",
    "early_stopping = tf.keras.callbacks.EarlyStopping(monitor='val_loss', patience=3, restore_best_weights=True)\n",
    "history = model.fit(X_train, y_train, epochs=20, batch_size=2048, validation_split=0.2)\n"
   ]
  },
  {
   "cell_type": "code",
   "execution_count": 47,
   "metadata": {},
   "outputs": [
    {
     "name": "stdout",
     "output_type": "stream",
     "text": [
      "602/602 [==============================] - 4s 6ms/step - loss: 0.1244 - accuracy: 0.9686\n",
      "Loss on test set: 0.1243947222828865\n",
      "Accuracy on test set: 0.9685844779014587\n"
     ]
    }
   ],
   "source": [
    "# Evaluate model on test set\n",
    "loss, accuracy = model.evaluate(X_test, y_test)\n",
    "print(f\"Loss on test set: {loss}\")\n",
    "print(f\"Accuracy on test set: {accuracy}\")\n",
    "\n",
    "# # Save model and tokenizer\n",
    "# model.save('..\\models\\question_classifier.h5')\n",
    "# joblib.dump(tokenizer, '..\\models\\question_tokenizer.joblib')"
   ]
  },
  {
   "cell_type": "code",
   "execution_count": 48,
   "metadata": {},
   "outputs": [
    {
     "name": "stdout",
     "output_type": "stream",
     "text": [
      "602/602 [==============================] - 3s 4ms/step\n",
      "              precision    recall  f1-score   support\n",
      "\n",
      "           0       0.97      0.98      0.97     11340\n",
      "           1       0.97      0.96      0.96      7918\n",
      "\n",
      "    accuracy                           0.97     19258\n",
      "   macro avg       0.97      0.97      0.97     19258\n",
      "weighted avg       0.97      0.97      0.97     19258\n",
      "\n"
     ]
    }
   ],
   "source": [
    "from sklearn.metrics import classification_report\n",
    "\n",
    "# Assuming you have predictions for the test set\n",
    "y_pred = model.predict(X_test)\n",
    "\n",
    "# Convert predictions to class labels\n",
    "y_pred_labels = [np.argmax(pred) for pred in y_pred]\n",
    "y_test_labels = [np.argmax(true) for true in y_test]\n",
    "\n",
    "# Generate the classification report\n",
    "class_report = classification_report(y_test_labels, y_pred_labels)\n",
    "\n",
    "print(class_report)\n"
   ]
  },
  {
   "cell_type": "code",
   "execution_count": 49,
   "metadata": {},
   "outputs": [
    {
     "name": "stdout",
     "output_type": "stream",
     "text": [
      "1/1 [==============================] - 0s 17ms/step\n"
     ]
    },
    {
     "data": {
      "text/plain": [
       "array([[3.8270721e-07, 9.9999964e-01]], dtype=float32)"
      ]
     },
     "execution_count": 49,
     "metadata": {},
     "output_type": "execute_result"
    }
   ],
   "source": [
    "# create dataframa with text and predict if it is a question or not\n",
    "new_df = pd.DataFrame({'message': ['شو الاخبار ']})\n",
    "# add more rows\n",
    "\n",
    "# tokenize the text\n",
    "new_sequences = tokenizer.texts_to_sequences(new_df['message'].values)\n",
    "# pad the sequences\n",
    "new_X = tf.keras.preprocessing.sequence.pad_sequences(new_sequences, maxlen=100)\n",
    "# predict\n",
    "model.predict(new_X)\n"
   ]
  },
  {
   "cell_type": "code",
   "execution_count": null,
   "metadata": {},
   "outputs": [],
   "source": []
  }
 ],
 "metadata": {
  "kernelspec": {
   "display_name": "finall",
   "language": "python",
   "name": "python3"
  },
  "language_info": {
   "codemirror_mode": {
    "name": "ipython",
    "version": 3
   },
   "file_extension": ".py",
   "mimetype": "text/x-python",
   "name": "python",
   "nbconvert_exporter": "python",
   "pygments_lexer": "ipython3",
   "version": "3.7.12"
  },
  "orig_nbformat": 4
 },
 "nbformat": 4,
 "nbformat_minor": 2
}
